{
 "cells": [
  {
   "cell_type": "markdown",
   "metadata": {},
   "source": [
    "### 멀티 인덱스 데이터 프레임"
   ]
  },
  {
   "cell_type": "code",
   "execution_count": 1,
   "metadata": {},
   "outputs": [],
   "source": [
    "import pandas as pd\n",
    "import numpy as np\n",
    "import os"
   ]
  },
  {
   "cell_type": "markdown",
   "metadata": {},
   "source": [
    "#### 신규 생성:"
   ]
  },
  {
   "cell_type": "code",
   "execution_count": 2,
   "metadata": {},
   "outputs": [],
   "source": [
    "my_header = ['a','b','c']"
   ]
  },
  {
   "cell_type": "code",
   "execution_count": 3,
   "metadata": {},
   "outputs": [],
   "source": [
    "my_index_out = ['G1']*3 + ['G2']*3\n",
    "my_index_in = [1,2,3]*2"
   ]
  },
  {
   "cell_type": "code",
   "execution_count": 4,
   "metadata": {},
   "outputs": [
    {
     "output_type": "execute_result",
     "data": {
      "text/plain": "[('G1', 1), ('G1', 2), ('G1', 3), ('G2', 1), ('G2', 2), ('G2', 3)]"
     },
     "metadata": {},
     "execution_count": 4
    }
   ],
   "source": [
    "my_index_zipped = list(zip(my_index_out, my_index_in))\n",
    "my_index_zipped"
   ]
  },
  {
   "cell_type": "code",
   "execution_count": 5,
   "metadata": {},
   "outputs": [
    {
     "output_type": "execute_result",
     "data": {
      "text/plain": "MultiIndex([('G1', 1),\n            ('G1', 2),\n            ('G1', 3),\n            ('G2', 1),\n            ('G2', 2),\n            ('G2', 3)],\n           names=['big', 'small'])"
     },
     "metadata": {},
     "execution_count": 5
    }
   ],
   "source": [
    "my_index = pd.MultiIndex.from_tuples(my_index_zipped)\n",
    "my_index.names = [\"big\", \"small\"]\n",
    "my_index"
   ]
  },
  {
   "cell_type": "code",
   "execution_count": 6,
   "metadata": {},
   "outputs": [
    {
     "output_type": "execute_result",
     "data": {
      "text/plain": "                  a         b         c\nbig small                              \nG1  1      0.180482  0.012485  0.536000\n    2      1.414812  1.627919 -0.818188\n    3     -0.096531 -0.725354  0.111193\nG2  1      0.557175 -1.166657  0.636568\n    2      0.178624  1.762736  0.452222\n    3     -0.092281  0.127173 -2.423871",
      "text/html": "<div>\n<style scoped>\n    .dataframe tbody tr th:only-of-type {\n        vertical-align: middle;\n    }\n\n    .dataframe tbody tr th {\n        vertical-align: top;\n    }\n\n    .dataframe thead th {\n        text-align: right;\n    }\n</style>\n<table border=\"1\" class=\"dataframe\">\n  <thead>\n    <tr style=\"text-align: right;\">\n      <th></th>\n      <th></th>\n      <th>a</th>\n      <th>b</th>\n      <th>c</th>\n    </tr>\n    <tr>\n      <th>big</th>\n      <th>small</th>\n      <th></th>\n      <th></th>\n      <th></th>\n    </tr>\n  </thead>\n  <tbody>\n    <tr>\n      <th rowspan=\"3\" valign=\"top\">G1</th>\n      <th>1</th>\n      <td>0.180482</td>\n      <td>0.012485</td>\n      <td>0.536000</td>\n    </tr>\n    <tr>\n      <th>2</th>\n      <td>1.414812</td>\n      <td>1.627919</td>\n      <td>-0.818188</td>\n    </tr>\n    <tr>\n      <th>3</th>\n      <td>-0.096531</td>\n      <td>-0.725354</td>\n      <td>0.111193</td>\n    </tr>\n    <tr>\n      <th rowspan=\"3\" valign=\"top\">G2</th>\n      <th>1</th>\n      <td>0.557175</td>\n      <td>-1.166657</td>\n      <td>0.636568</td>\n    </tr>\n    <tr>\n      <th>2</th>\n      <td>0.178624</td>\n      <td>1.762736</td>\n      <td>0.452222</td>\n    </tr>\n    <tr>\n      <th>3</th>\n      <td>-0.092281</td>\n      <td>0.127173</td>\n      <td>-2.423871</td>\n    </tr>\n  </tbody>\n</table>\n</div>"
     },
     "metadata": {},
     "execution_count": 6
    }
   ],
   "source": [
    "df = pd.DataFrame(data=np.random.randn(6,3),index=my_index,columns=my_header)\n",
    "df"
   ]
  },
  {
   "cell_type": "markdown",
   "metadata": {},
   "source": [
    "#### 슬라이싱:"
   ]
  },
  {
   "cell_type": "code",
   "execution_count": 7,
   "metadata": {},
   "outputs": [
    {
     "output_type": "execute_result",
     "data": {
      "text/plain": "              a         b         c\nsmall                              \n1      0.180482  0.012485  0.536000\n2      1.414812  1.627919 -0.818188\n3     -0.096531 -0.725354  0.111193",
      "text/html": "<div>\n<style scoped>\n    .dataframe tbody tr th:only-of-type {\n        vertical-align: middle;\n    }\n\n    .dataframe tbody tr th {\n        vertical-align: top;\n    }\n\n    .dataframe thead th {\n        text-align: right;\n    }\n</style>\n<table border=\"1\" class=\"dataframe\">\n  <thead>\n    <tr style=\"text-align: right;\">\n      <th></th>\n      <th>a</th>\n      <th>b</th>\n      <th>c</th>\n    </tr>\n    <tr>\n      <th>small</th>\n      <th></th>\n      <th></th>\n      <th></th>\n    </tr>\n  </thead>\n  <tbody>\n    <tr>\n      <th>1</th>\n      <td>0.180482</td>\n      <td>0.012485</td>\n      <td>0.536000</td>\n    </tr>\n    <tr>\n      <th>2</th>\n      <td>1.414812</td>\n      <td>1.627919</td>\n      <td>-0.818188</td>\n    </tr>\n    <tr>\n      <th>3</th>\n      <td>-0.096531</td>\n      <td>-0.725354</td>\n      <td>0.111193</td>\n    </tr>\n  </tbody>\n</table>\n</div>"
     },
     "metadata": {},
     "execution_count": 7
    }
   ],
   "source": [
    "df.loc['G1']"
   ]
  },
  {
   "cell_type": "code",
   "execution_count": 8,
   "metadata": {},
   "outputs": [
    {
     "output_type": "execute_result",
     "data": {
      "text/plain": "a    0.180482\nb    0.012485\nc    0.536000\nName: 1, dtype: float64"
     },
     "metadata": {},
     "execution_count": 8
    }
   ],
   "source": [
    "df.loc['G1'].loc[1]"
   ]
  },
  {
   "cell_type": "code",
   "execution_count": 9,
   "metadata": {},
   "outputs": [
    {
     "output_type": "execute_result",
     "data": {
      "text/plain": "0.012484744025075092"
     },
     "metadata": {},
     "execution_count": 9
    }
   ],
   "source": [
    "df.loc['G1'].loc[1,'b']"
   ]
  },
  {
   "cell_type": "markdown",
   "metadata": {},
   "source": [
    "### 그룹연산"
   ]
  },
  {
   "cell_type": "code",
   "execution_count": 46,
   "metadata": {},
   "outputs": [],
   "source": [
    "df = pd.read_csv('./data/data_studentlist_en.csv',header='infer',encoding = 'latin1')"
   ]
  },
  {
   "cell_type": "code",
   "execution_count": 47,
   "metadata": {},
   "outputs": [
    {
     "output_type": "execute_result",
     "data": {
      "text/plain": "             name gender  age  grade absence bloodtype  height  weight\n0   Jared Diamond      M   23      3       Y         O   165.3    68.2\n1  Sarah O'Donnel      F   22      2       N        AB   170.1    53.0\n2    Brian Martin      M   24      4       N         B   175.0    80.1",
      "text/html": "<div>\n<style scoped>\n    .dataframe tbody tr th:only-of-type {\n        vertical-align: middle;\n    }\n\n    .dataframe tbody tr th {\n        vertical-align: top;\n    }\n\n    .dataframe thead th {\n        text-align: right;\n    }\n</style>\n<table border=\"1\" class=\"dataframe\">\n  <thead>\n    <tr style=\"text-align: right;\">\n      <th></th>\n      <th>name</th>\n      <th>gender</th>\n      <th>age</th>\n      <th>grade</th>\n      <th>absence</th>\n      <th>bloodtype</th>\n      <th>height</th>\n      <th>weight</th>\n    </tr>\n  </thead>\n  <tbody>\n    <tr>\n      <th>0</th>\n      <td>Jared Diamond</td>\n      <td>M</td>\n      <td>23</td>\n      <td>3</td>\n      <td>Y</td>\n      <td>O</td>\n      <td>165.3</td>\n      <td>68.2</td>\n    </tr>\n    <tr>\n      <th>1</th>\n      <td>Sarah O'Donnel</td>\n      <td>F</td>\n      <td>22</td>\n      <td>2</td>\n      <td>N</td>\n      <td>AB</td>\n      <td>170.1</td>\n      <td>53.0</td>\n    </tr>\n    <tr>\n      <th>2</th>\n      <td>Brian Martin</td>\n      <td>M</td>\n      <td>24</td>\n      <td>4</td>\n      <td>N</td>\n      <td>B</td>\n      <td>175.0</td>\n      <td>80.1</td>\n    </tr>\n  </tbody>\n</table>\n</div>"
     },
     "metadata": {},
     "execution_count": 47
    }
   ],
   "source": [
    "df.head(3)"
   ]
  },
  {
   "cell_type": "code",
   "execution_count": 48,
   "metadata": {},
   "outputs": [
    {
     "output_type": "execute_result",
     "data": {
      "text/plain": "              age     grade      height     weight\ngender                                            \nF       21.857143  1.714286  166.642857  50.442857\nM       22.700000  2.700000  172.410000  68.500000",
      "text/html": "<div>\n<style scoped>\n    .dataframe tbody tr th:only-of-type {\n        vertical-align: middle;\n    }\n\n    .dataframe tbody tr th {\n        vertical-align: top;\n    }\n\n    .dataframe thead th {\n        text-align: right;\n    }\n</style>\n<table border=\"1\" class=\"dataframe\">\n  <thead>\n    <tr style=\"text-align: right;\">\n      <th></th>\n      <th>age</th>\n      <th>grade</th>\n      <th>height</th>\n      <th>weight</th>\n    </tr>\n    <tr>\n      <th>gender</th>\n      <th></th>\n      <th></th>\n      <th></th>\n      <th></th>\n    </tr>\n  </thead>\n  <tbody>\n    <tr>\n      <th>F</th>\n      <td>21.857143</td>\n      <td>1.714286</td>\n      <td>166.642857</td>\n      <td>50.442857</td>\n    </tr>\n    <tr>\n      <th>M</th>\n      <td>22.700000</td>\n      <td>2.700000</td>\n      <td>172.410000</td>\n      <td>68.500000</td>\n    </tr>\n  </tbody>\n</table>\n</div>"
     },
     "metadata": {},
     "execution_count": 48
    }
   ],
   "source": [
    "df.groupby('gender').mean()"
   ]
  },
  {
   "cell_type": "code",
   "execution_count": 49,
   "metadata": {},
   "outputs": [
    {
     "output_type": "execute_result",
     "data": {
      "text/plain": "gender\nF    166.642857\nM    172.410000\nName: height, dtype: float64"
     },
     "metadata": {},
     "execution_count": 49
    }
   ],
   "source": [
    "df.groupby('gender')['height'].mean()"
   ]
  },
  {
   "cell_type": "code",
   "execution_count": 50,
   "metadata": {},
   "outputs": [
    {
     "output_type": "execute_result",
     "data": {
      "text/plain": "            height     weight\ngender                       \nF       166.642857  50.442857\nM       172.410000  68.500000",
      "text/html": "<div>\n<style scoped>\n    .dataframe tbody tr th:only-of-type {\n        vertical-align: middle;\n    }\n\n    .dataframe tbody tr th {\n        vertical-align: top;\n    }\n\n    .dataframe thead th {\n        text-align: right;\n    }\n</style>\n<table border=\"1\" class=\"dataframe\">\n  <thead>\n    <tr style=\"text-align: right;\">\n      <th></th>\n      <th>height</th>\n      <th>weight</th>\n    </tr>\n    <tr>\n      <th>gender</th>\n      <th></th>\n      <th></th>\n    </tr>\n  </thead>\n  <tbody>\n    <tr>\n      <th>F</th>\n      <td>166.642857</td>\n      <td>50.442857</td>\n    </tr>\n    <tr>\n      <th>M</th>\n      <td>172.410000</td>\n      <td>68.500000</td>\n    </tr>\n  </tbody>\n</table>\n</div>"
     },
     "metadata": {},
     "execution_count": 50
    }
   ],
   "source": [
    "df.groupby('gender')[['height','weight']].mean()"
   ]
  },
  {
   "cell_type": "code",
   "execution_count": 51,
   "metadata": {},
   "outputs": [
    {
     "output_type": "execute_result",
     "data": {
      "text/plain": "           grade       age\ngender                    \nF       0.755929  1.069045\nM       1.159502  1.159502",
      "text/html": "<div>\n<style scoped>\n    .dataframe tbody tr th:only-of-type {\n        vertical-align: middle;\n    }\n\n    .dataframe tbody tr th {\n        vertical-align: top;\n    }\n\n    .dataframe thead th {\n        text-align: right;\n    }\n</style>\n<table border=\"1\" class=\"dataframe\">\n  <thead>\n    <tr style=\"text-align: right;\">\n      <th></th>\n      <th>grade</th>\n      <th>age</th>\n    </tr>\n    <tr>\n      <th>gender</th>\n      <th></th>\n      <th></th>\n    </tr>\n  </thead>\n  <tbody>\n    <tr>\n      <th>F</th>\n      <td>0.755929</td>\n      <td>1.069045</td>\n    </tr>\n    <tr>\n      <th>M</th>\n      <td>1.159502</td>\n      <td>1.159502</td>\n    </tr>\n  </tbody>\n</table>\n</div>"
     },
     "metadata": {},
     "execution_count": 51
    }
   ],
   "source": [
    "df.groupby('gender')[['grade','age']].std()"
   ]
  },
  {
   "cell_type": "code",
   "execution_count": 52,
   "metadata": {},
   "outputs": [
    {
     "output_type": "execute_result",
     "data": {
      "text/plain": "        count        mean       std    min      25%    50%    75%    max\ngender                                                                  \nF         7.0  166.642857  8.487414  155.2  160.100  168.0  173.1  176.9\nM        10.0  172.410000  6.804647  162.2  167.475  172.1  177.9  182.1",
      "text/html": "<div>\n<style scoped>\n    .dataframe tbody tr th:only-of-type {\n        vertical-align: middle;\n    }\n\n    .dataframe tbody tr th {\n        vertical-align: top;\n    }\n\n    .dataframe thead th {\n        text-align: right;\n    }\n</style>\n<table border=\"1\" class=\"dataframe\">\n  <thead>\n    <tr style=\"text-align: right;\">\n      <th></th>\n      <th>count</th>\n      <th>mean</th>\n      <th>std</th>\n      <th>min</th>\n      <th>25%</th>\n      <th>50%</th>\n      <th>75%</th>\n      <th>max</th>\n    </tr>\n    <tr>\n      <th>gender</th>\n      <th></th>\n      <th></th>\n      <th></th>\n      <th></th>\n      <th></th>\n      <th></th>\n      <th></th>\n      <th></th>\n    </tr>\n  </thead>\n  <tbody>\n    <tr>\n      <th>F</th>\n      <td>7.0</td>\n      <td>166.642857</td>\n      <td>8.487414</td>\n      <td>155.2</td>\n      <td>160.100</td>\n      <td>168.0</td>\n      <td>173.1</td>\n      <td>176.9</td>\n    </tr>\n    <tr>\n      <th>M</th>\n      <td>10.0</td>\n      <td>172.410000</td>\n      <td>6.804647</td>\n      <td>162.2</td>\n      <td>167.475</td>\n      <td>172.1</td>\n      <td>177.9</td>\n      <td>182.1</td>\n    </tr>\n  </tbody>\n</table>\n</div>"
     },
     "metadata": {},
     "execution_count": 52
    }
   ],
   "source": [
    "df.groupby('gender')['height'].describe()"
   ]
  },
  {
   "cell_type": "code",
   "execution_count": 53,
   "metadata": {},
   "outputs": [
    {
     "output_type": "execute_result",
     "data": {
      "text/plain": "gender  bloodtype\nF       A            172.450000\n        AB           170.100000\n        B            158.200000\n        O            164.433333\nM       A            165.700000\n        AB           181.050000\n        B            174.550000\n        O            166.200000\nName: height, dtype: float64"
     },
     "metadata": {},
     "execution_count": 53
    }
   ],
   "source": [
    "sr = df.groupby(['gender','bloodtype'])['height'].mean()     # 멀티 인덱싱!!\n",
    "sr"
   ]
  },
  {
   "cell_type": "code",
   "execution_count": 54,
   "metadata": {},
   "outputs": [
    {
     "output_type": "execute_result",
     "data": {
      "text/plain": "MultiIndex([('F',  'A'),\n            ('F', 'AB'),\n            ('F',  'B'),\n            ('F',  'O'),\n            ('M',  'A'),\n            ('M', 'AB'),\n            ('M',  'B'),\n            ('M',  'O')],\n           names=['gender', 'bloodtype'])"
     },
     "metadata": {},
     "execution_count": 54
    }
   ],
   "source": [
    "# 멀티 인덱스 확인.\n",
    "sr.index"
   ]
  },
  {
   "cell_type": "code",
   "execution_count": 55,
   "metadata": {},
   "outputs": [
    {
     "output_type": "execute_result",
     "data": {
      "text/plain": "bloodtype\nA     172.450000\nAB    170.100000\nB     158.200000\nO     164.433333\nName: height, dtype: float64"
     },
     "metadata": {},
     "execution_count": 55
    }
   ],
   "source": [
    "sr.loc['F']"
   ]
  },
  {
   "cell_type": "code",
   "execution_count": 56,
   "metadata": {},
   "outputs": [
    {
     "output_type": "execute_result",
     "data": {
      "text/plain": "bloodtype\nA     172.450000\nAB    170.100000\nB     158.200000\nO     164.433333\nName: height, dtype: float64"
     },
     "metadata": {},
     "execution_count": 56
    }
   ],
   "source": [
    "sr['F']"
   ]
  },
  {
   "cell_type": "code",
   "execution_count": 57,
   "metadata": {},
   "outputs": [
    {
     "output_type": "execute_result",
     "data": {
      "text/plain": "172.45"
     },
     "metadata": {},
     "execution_count": 57
    }
   ],
   "source": [
    "sr.loc['F'].loc['A']"
   ]
  },
  {
   "cell_type": "code",
   "execution_count": 58,
   "metadata": {},
   "outputs": [
    {
     "output_type": "execute_result",
     "data": {
      "text/plain": "172.45"
     },
     "metadata": {},
     "execution_count": 58
    }
   ],
   "source": [
    "sr['F']['A']"
   ]
  },
  {
   "cell_type": "markdown",
   "metadata": {},
   "source": [
    "### apply 함수, sort_values 함수, 등."
   ]
  },
  {
   "cell_type": "code",
   "execution_count": 59,
   "metadata": {},
   "outputs": [
    {
     "output_type": "execute_result",
     "data": {
      "text/plain": "0     1.653\n1     1.701\n2     1.750\n3     1.821\n4     1.680\n5     1.620\n6     1.552\n7     1.769\n8     1.785\n9     1.761\n10    1.671\n11    1.800\n12    1.622\n13    1.761\n14    1.582\n15    1.686\n16    1.692\nName: height, dtype: float64"
     },
     "metadata": {},
     "execution_count": 59
    }
   ],
   "source": [
    "df['height'].apply(lambda x: x/100)"
   ]
  },
  {
   "cell_type": "code",
   "execution_count": 60,
   "metadata": {},
   "outputs": [
    {
     "output_type": "execute_result",
     "data": {
      "text/plain": "                name gender  age  grade absence bloodtype  height  weight\n16      Andrew Daley      M   21      1       N         A   169.2    62.2\n4    Clara Rodriquez      F   20      1       Y         A   168.0    49.5\n12      Eddy Johnson      M   21      1       N         A   162.2    55.3\n7    Margareth Jones      F   23      1       N         A   176.9    55.0\n1     Sarah O'Donnel      F   22      2       N        AB   170.1    53.0\n3       David Hassel      M   23      3       N        AB   182.1    85.7\n11      John Matsuda      M   22      2       N        AB   180.0    75.8\n14      Linda Carter      F   22      2       N         B   158.2    45.2\n9     Jake Timmerman      M   22      2       N         B   176.1    61.3\n8       John Bertsch      M   23      3       N         B   178.5    64.2\n2       Brian Martin      M   24      4       N         B   175.0    80.1\n15    Richard Swayze      M   24      4       Y         B   168.6    70.2\n10     Joshua Connor      M   24      4       Y         O   167.1    62.0\n6        Susan Clark      F   22      1       N         O   155.2    45.3\n5   Jennifer Lorentz      F   21      2       N         O   162.0    52.0\n13  Rebecah Anderson      F   23      3       N         O   176.1    53.1\n0      Jared Diamond      M   23      3       Y         O   165.3    68.2",
      "text/html": "<div>\n<style scoped>\n    .dataframe tbody tr th:only-of-type {\n        vertical-align: middle;\n    }\n\n    .dataframe tbody tr th {\n        vertical-align: top;\n    }\n\n    .dataframe thead th {\n        text-align: right;\n    }\n</style>\n<table border=\"1\" class=\"dataframe\">\n  <thead>\n    <tr style=\"text-align: right;\">\n      <th></th>\n      <th>name</th>\n      <th>gender</th>\n      <th>age</th>\n      <th>grade</th>\n      <th>absence</th>\n      <th>bloodtype</th>\n      <th>height</th>\n      <th>weight</th>\n    </tr>\n  </thead>\n  <tbody>\n    <tr>\n      <th>16</th>\n      <td>Andrew Daley</td>\n      <td>M</td>\n      <td>21</td>\n      <td>1</td>\n      <td>N</td>\n      <td>A</td>\n      <td>169.2</td>\n      <td>62.2</td>\n    </tr>\n    <tr>\n      <th>4</th>\n      <td>Clara Rodriquez</td>\n      <td>F</td>\n      <td>20</td>\n      <td>1</td>\n      <td>Y</td>\n      <td>A</td>\n      <td>168.0</td>\n      <td>49.5</td>\n    </tr>\n    <tr>\n      <th>12</th>\n      <td>Eddy Johnson</td>\n      <td>M</td>\n      <td>21</td>\n      <td>1</td>\n      <td>N</td>\n      <td>A</td>\n      <td>162.2</td>\n      <td>55.3</td>\n    </tr>\n    <tr>\n      <th>7</th>\n      <td>Margareth Jones</td>\n      <td>F</td>\n      <td>23</td>\n      <td>1</td>\n      <td>N</td>\n      <td>A</td>\n      <td>176.9</td>\n      <td>55.0</td>\n    </tr>\n    <tr>\n      <th>1</th>\n      <td>Sarah O'Donnel</td>\n      <td>F</td>\n      <td>22</td>\n      <td>2</td>\n      <td>N</td>\n      <td>AB</td>\n      <td>170.1</td>\n      <td>53.0</td>\n    </tr>\n    <tr>\n      <th>3</th>\n      <td>David Hassel</td>\n      <td>M</td>\n      <td>23</td>\n      <td>3</td>\n      <td>N</td>\n      <td>AB</td>\n      <td>182.1</td>\n      <td>85.7</td>\n    </tr>\n    <tr>\n      <th>11</th>\n      <td>John Matsuda</td>\n      <td>M</td>\n      <td>22</td>\n      <td>2</td>\n      <td>N</td>\n      <td>AB</td>\n      <td>180.0</td>\n      <td>75.8</td>\n    </tr>\n    <tr>\n      <th>14</th>\n      <td>Linda Carter</td>\n      <td>F</td>\n      <td>22</td>\n      <td>2</td>\n      <td>N</td>\n      <td>B</td>\n      <td>158.2</td>\n      <td>45.2</td>\n    </tr>\n    <tr>\n      <th>9</th>\n      <td>Jake Timmerman</td>\n      <td>M</td>\n      <td>22</td>\n      <td>2</td>\n      <td>N</td>\n      <td>B</td>\n      <td>176.1</td>\n      <td>61.3</td>\n    </tr>\n    <tr>\n      <th>8</th>\n      <td>John Bertsch</td>\n      <td>M</td>\n      <td>23</td>\n      <td>3</td>\n      <td>N</td>\n      <td>B</td>\n      <td>178.5</td>\n      <td>64.2</td>\n    </tr>\n    <tr>\n      <th>2</th>\n      <td>Brian Martin</td>\n      <td>M</td>\n      <td>24</td>\n      <td>4</td>\n      <td>N</td>\n      <td>B</td>\n      <td>175.0</td>\n      <td>80.1</td>\n    </tr>\n    <tr>\n      <th>15</th>\n      <td>Richard Swayze</td>\n      <td>M</td>\n      <td>24</td>\n      <td>4</td>\n      <td>Y</td>\n      <td>B</td>\n      <td>168.6</td>\n      <td>70.2</td>\n    </tr>\n    <tr>\n      <th>10</th>\n      <td>Joshua Connor</td>\n      <td>M</td>\n      <td>24</td>\n      <td>4</td>\n      <td>Y</td>\n      <td>O</td>\n      <td>167.1</td>\n      <td>62.0</td>\n    </tr>\n    <tr>\n      <th>6</th>\n      <td>Susan Clark</td>\n      <td>F</td>\n      <td>22</td>\n      <td>1</td>\n      <td>N</td>\n      <td>O</td>\n      <td>155.2</td>\n      <td>45.3</td>\n    </tr>\n    <tr>\n      <th>5</th>\n      <td>Jennifer Lorentz</td>\n      <td>F</td>\n      <td>21</td>\n      <td>2</td>\n      <td>N</td>\n      <td>O</td>\n      <td>162.0</td>\n      <td>52.0</td>\n    </tr>\n    <tr>\n      <th>13</th>\n      <td>Rebecah Anderson</td>\n      <td>F</td>\n      <td>23</td>\n      <td>3</td>\n      <td>N</td>\n      <td>O</td>\n      <td>176.1</td>\n      <td>53.1</td>\n    </tr>\n    <tr>\n      <th>0</th>\n      <td>Jared Diamond</td>\n      <td>M</td>\n      <td>23</td>\n      <td>3</td>\n      <td>Y</td>\n      <td>O</td>\n      <td>165.3</td>\n      <td>68.2</td>\n    </tr>\n  </tbody>\n</table>\n</div>"
     },
     "metadata": {},
     "execution_count": 60
    }
   ],
   "source": [
    "df.sort_values(by='bloodtype')"
   ]
  },
  {
   "cell_type": "code",
   "execution_count": 61,
   "metadata": {},
   "outputs": [
    {
     "output_type": "execute_result",
     "data": {
      "text/plain": "                name gender  age  grade absence bloodtype  height  weight\n0      Jared Diamond      M   23      3       Y         O   165.3    68.2\n13  Rebecah Anderson      F   23      3       N         O   176.1    53.1\n5   Jennifer Lorentz      F   21      2       N         O   162.0    52.0\n6        Susan Clark      F   22      1       N         O   155.2    45.3\n10     Joshua Connor      M   24      4       Y         O   167.1    62.0\n9     Jake Timmerman      M   22      2       N         B   176.1    61.3\n15    Richard Swayze      M   24      4       Y         B   168.6    70.2\n14      Linda Carter      F   22      2       N         B   158.2    45.2\n8       John Bertsch      M   23      3       N         B   178.5    64.2\n2       Brian Martin      M   24      4       N         B   175.0    80.1\n1     Sarah O'Donnel      F   22      2       N        AB   170.1    53.0\n11      John Matsuda      M   22      2       N        AB   180.0    75.8\n3       David Hassel      M   23      3       N        AB   182.1    85.7\n7    Margareth Jones      F   23      1       N         A   176.9    55.0\n12      Eddy Johnson      M   21      1       N         A   162.2    55.3\n4    Clara Rodriquez      F   20      1       Y         A   168.0    49.5\n16      Andrew Daley      M   21      1       N         A   169.2    62.2",
      "text/html": "<div>\n<style scoped>\n    .dataframe tbody tr th:only-of-type {\n        vertical-align: middle;\n    }\n\n    .dataframe tbody tr th {\n        vertical-align: top;\n    }\n\n    .dataframe thead th {\n        text-align: right;\n    }\n</style>\n<table border=\"1\" class=\"dataframe\">\n  <thead>\n    <tr style=\"text-align: right;\">\n      <th></th>\n      <th>name</th>\n      <th>gender</th>\n      <th>age</th>\n      <th>grade</th>\n      <th>absence</th>\n      <th>bloodtype</th>\n      <th>height</th>\n      <th>weight</th>\n    </tr>\n  </thead>\n  <tbody>\n    <tr>\n      <th>0</th>\n      <td>Jared Diamond</td>\n      <td>M</td>\n      <td>23</td>\n      <td>3</td>\n      <td>Y</td>\n      <td>O</td>\n      <td>165.3</td>\n      <td>68.2</td>\n    </tr>\n    <tr>\n      <th>13</th>\n      <td>Rebecah Anderson</td>\n      <td>F</td>\n      <td>23</td>\n      <td>3</td>\n      <td>N</td>\n      <td>O</td>\n      <td>176.1</td>\n      <td>53.1</td>\n    </tr>\n    <tr>\n      <th>5</th>\n      <td>Jennifer Lorentz</td>\n      <td>F</td>\n      <td>21</td>\n      <td>2</td>\n      <td>N</td>\n      <td>O</td>\n      <td>162.0</td>\n      <td>52.0</td>\n    </tr>\n    <tr>\n      <th>6</th>\n      <td>Susan Clark</td>\n      <td>F</td>\n      <td>22</td>\n      <td>1</td>\n      <td>N</td>\n      <td>O</td>\n      <td>155.2</td>\n      <td>45.3</td>\n    </tr>\n    <tr>\n      <th>10</th>\n      <td>Joshua Connor</td>\n      <td>M</td>\n      <td>24</td>\n      <td>4</td>\n      <td>Y</td>\n      <td>O</td>\n      <td>167.1</td>\n      <td>62.0</td>\n    </tr>\n    <tr>\n      <th>9</th>\n      <td>Jake Timmerman</td>\n      <td>M</td>\n      <td>22</td>\n      <td>2</td>\n      <td>N</td>\n      <td>B</td>\n      <td>176.1</td>\n      <td>61.3</td>\n    </tr>\n    <tr>\n      <th>15</th>\n      <td>Richard Swayze</td>\n      <td>M</td>\n      <td>24</td>\n      <td>4</td>\n      <td>Y</td>\n      <td>B</td>\n      <td>168.6</td>\n      <td>70.2</td>\n    </tr>\n    <tr>\n      <th>14</th>\n      <td>Linda Carter</td>\n      <td>F</td>\n      <td>22</td>\n      <td>2</td>\n      <td>N</td>\n      <td>B</td>\n      <td>158.2</td>\n      <td>45.2</td>\n    </tr>\n    <tr>\n      <th>8</th>\n      <td>John Bertsch</td>\n      <td>M</td>\n      <td>23</td>\n      <td>3</td>\n      <td>N</td>\n      <td>B</td>\n      <td>178.5</td>\n      <td>64.2</td>\n    </tr>\n    <tr>\n      <th>2</th>\n      <td>Brian Martin</td>\n      <td>M</td>\n      <td>24</td>\n      <td>4</td>\n      <td>N</td>\n      <td>B</td>\n      <td>175.0</td>\n      <td>80.1</td>\n    </tr>\n    <tr>\n      <th>1</th>\n      <td>Sarah O'Donnel</td>\n      <td>F</td>\n      <td>22</td>\n      <td>2</td>\n      <td>N</td>\n      <td>AB</td>\n      <td>170.1</td>\n      <td>53.0</td>\n    </tr>\n    <tr>\n      <th>11</th>\n      <td>John Matsuda</td>\n      <td>M</td>\n      <td>22</td>\n      <td>2</td>\n      <td>N</td>\n      <td>AB</td>\n      <td>180.0</td>\n      <td>75.8</td>\n    </tr>\n    <tr>\n      <th>3</th>\n      <td>David Hassel</td>\n      <td>M</td>\n      <td>23</td>\n      <td>3</td>\n      <td>N</td>\n      <td>AB</td>\n      <td>182.1</td>\n      <td>85.7</td>\n    </tr>\n    <tr>\n      <th>7</th>\n      <td>Margareth Jones</td>\n      <td>F</td>\n      <td>23</td>\n      <td>1</td>\n      <td>N</td>\n      <td>A</td>\n      <td>176.9</td>\n      <td>55.0</td>\n    </tr>\n    <tr>\n      <th>12</th>\n      <td>Eddy Johnson</td>\n      <td>M</td>\n      <td>21</td>\n      <td>1</td>\n      <td>N</td>\n      <td>A</td>\n      <td>162.2</td>\n      <td>55.3</td>\n    </tr>\n    <tr>\n      <th>4</th>\n      <td>Clara Rodriquez</td>\n      <td>F</td>\n      <td>20</td>\n      <td>1</td>\n      <td>Y</td>\n      <td>A</td>\n      <td>168.0</td>\n      <td>49.5</td>\n    </tr>\n    <tr>\n      <th>16</th>\n      <td>Andrew Daley</td>\n      <td>M</td>\n      <td>21</td>\n      <td>1</td>\n      <td>N</td>\n      <td>A</td>\n      <td>169.2</td>\n      <td>62.2</td>\n    </tr>\n  </tbody>\n</table>\n</div>"
     },
     "metadata": {},
     "execution_count": 61
    }
   ],
   "source": [
    "df.sort_values(by='bloodtype', ascending=False)"
   ]
  },
  {
   "cell_type": "code",
   "execution_count": 62,
   "metadata": {},
   "outputs": [
    {
     "output_type": "execute_result",
     "data": {
      "text/plain": "                name gender  age  grade absence bloodtype  height  weight\n4    Clara Rodriquez      F   20      1       Y         A   168.0    49.5\n7    Margareth Jones      F   23      1       N         A   176.9    55.0\n12      Eddy Johnson      M   21      1       N         A   162.2    55.3\n16      Andrew Daley      M   21      1       N         A   169.2    62.2\n1     Sarah O'Donnel      F   22      2       N        AB   170.1    53.0\n3       David Hassel      M   23      3       N        AB   182.1    85.7\n11      John Matsuda      M   22      2       N        AB   180.0    75.8\n14      Linda Carter      F   22      2       N         B   158.2    45.2\n2       Brian Martin      M   24      4       N         B   175.0    80.1\n8       John Bertsch      M   23      3       N         B   178.5    64.2\n9     Jake Timmerman      M   22      2       N         B   176.1    61.3\n15    Richard Swayze      M   24      4       Y         B   168.6    70.2\n5   Jennifer Lorentz      F   21      2       N         O   162.0    52.0\n6        Susan Clark      F   22      1       N         O   155.2    45.3\n13  Rebecah Anderson      F   23      3       N         O   176.1    53.1\n0      Jared Diamond      M   23      3       Y         O   165.3    68.2\n10     Joshua Connor      M   24      4       Y         O   167.1    62.0",
      "text/html": "<div>\n<style scoped>\n    .dataframe tbody tr th:only-of-type {\n        vertical-align: middle;\n    }\n\n    .dataframe tbody tr th {\n        vertical-align: top;\n    }\n\n    .dataframe thead th {\n        text-align: right;\n    }\n</style>\n<table border=\"1\" class=\"dataframe\">\n  <thead>\n    <tr style=\"text-align: right;\">\n      <th></th>\n      <th>name</th>\n      <th>gender</th>\n      <th>age</th>\n      <th>grade</th>\n      <th>absence</th>\n      <th>bloodtype</th>\n      <th>height</th>\n      <th>weight</th>\n    </tr>\n  </thead>\n  <tbody>\n    <tr>\n      <th>4</th>\n      <td>Clara Rodriquez</td>\n      <td>F</td>\n      <td>20</td>\n      <td>1</td>\n      <td>Y</td>\n      <td>A</td>\n      <td>168.0</td>\n      <td>49.5</td>\n    </tr>\n    <tr>\n      <th>7</th>\n      <td>Margareth Jones</td>\n      <td>F</td>\n      <td>23</td>\n      <td>1</td>\n      <td>N</td>\n      <td>A</td>\n      <td>176.9</td>\n      <td>55.0</td>\n    </tr>\n    <tr>\n      <th>12</th>\n      <td>Eddy Johnson</td>\n      <td>M</td>\n      <td>21</td>\n      <td>1</td>\n      <td>N</td>\n      <td>A</td>\n      <td>162.2</td>\n      <td>55.3</td>\n    </tr>\n    <tr>\n      <th>16</th>\n      <td>Andrew Daley</td>\n      <td>M</td>\n      <td>21</td>\n      <td>1</td>\n      <td>N</td>\n      <td>A</td>\n      <td>169.2</td>\n      <td>62.2</td>\n    </tr>\n    <tr>\n      <th>1</th>\n      <td>Sarah O'Donnel</td>\n      <td>F</td>\n      <td>22</td>\n      <td>2</td>\n      <td>N</td>\n      <td>AB</td>\n      <td>170.1</td>\n      <td>53.0</td>\n    </tr>\n    <tr>\n      <th>3</th>\n      <td>David Hassel</td>\n      <td>M</td>\n      <td>23</td>\n      <td>3</td>\n      <td>N</td>\n      <td>AB</td>\n      <td>182.1</td>\n      <td>85.7</td>\n    </tr>\n    <tr>\n      <th>11</th>\n      <td>John Matsuda</td>\n      <td>M</td>\n      <td>22</td>\n      <td>2</td>\n      <td>N</td>\n      <td>AB</td>\n      <td>180.0</td>\n      <td>75.8</td>\n    </tr>\n    <tr>\n      <th>14</th>\n      <td>Linda Carter</td>\n      <td>F</td>\n      <td>22</td>\n      <td>2</td>\n      <td>N</td>\n      <td>B</td>\n      <td>158.2</td>\n      <td>45.2</td>\n    </tr>\n    <tr>\n      <th>2</th>\n      <td>Brian Martin</td>\n      <td>M</td>\n      <td>24</td>\n      <td>4</td>\n      <td>N</td>\n      <td>B</td>\n      <td>175.0</td>\n      <td>80.1</td>\n    </tr>\n    <tr>\n      <th>8</th>\n      <td>John Bertsch</td>\n      <td>M</td>\n      <td>23</td>\n      <td>3</td>\n      <td>N</td>\n      <td>B</td>\n      <td>178.5</td>\n      <td>64.2</td>\n    </tr>\n    <tr>\n      <th>9</th>\n      <td>Jake Timmerman</td>\n      <td>M</td>\n      <td>22</td>\n      <td>2</td>\n      <td>N</td>\n      <td>B</td>\n      <td>176.1</td>\n      <td>61.3</td>\n    </tr>\n    <tr>\n      <th>15</th>\n      <td>Richard Swayze</td>\n      <td>M</td>\n      <td>24</td>\n      <td>4</td>\n      <td>Y</td>\n      <td>B</td>\n      <td>168.6</td>\n      <td>70.2</td>\n    </tr>\n    <tr>\n      <th>5</th>\n      <td>Jennifer Lorentz</td>\n      <td>F</td>\n      <td>21</td>\n      <td>2</td>\n      <td>N</td>\n      <td>O</td>\n      <td>162.0</td>\n      <td>52.0</td>\n    </tr>\n    <tr>\n      <th>6</th>\n      <td>Susan Clark</td>\n      <td>F</td>\n      <td>22</td>\n      <td>1</td>\n      <td>N</td>\n      <td>O</td>\n      <td>155.2</td>\n      <td>45.3</td>\n    </tr>\n    <tr>\n      <th>13</th>\n      <td>Rebecah Anderson</td>\n      <td>F</td>\n      <td>23</td>\n      <td>3</td>\n      <td>N</td>\n      <td>O</td>\n      <td>176.1</td>\n      <td>53.1</td>\n    </tr>\n    <tr>\n      <th>0</th>\n      <td>Jared Diamond</td>\n      <td>M</td>\n      <td>23</td>\n      <td>3</td>\n      <td>Y</td>\n      <td>O</td>\n      <td>165.3</td>\n      <td>68.2</td>\n    </tr>\n    <tr>\n      <th>10</th>\n      <td>Joshua Connor</td>\n      <td>M</td>\n      <td>24</td>\n      <td>4</td>\n      <td>Y</td>\n      <td>O</td>\n      <td>167.1</td>\n      <td>62.0</td>\n    </tr>\n  </tbody>\n</table>\n</div>"
     },
     "metadata": {},
     "execution_count": 62
    }
   ],
   "source": [
    "df.sort_values(by=['bloodtype','gender'])"
   ]
  },
  {
   "cell_type": "code",
   "execution_count": 63,
   "metadata": {},
   "outputs": [
    {
     "output_type": "execute_result",
     "data": {
      "text/plain": "array(['O', 'AB', 'B', 'A'], dtype=object)"
     },
     "metadata": {},
     "execution_count": 63
    }
   ],
   "source": [
    "df['bloodtype'].unique()"
   ]
  },
  {
   "cell_type": "code",
   "execution_count": 64,
   "metadata": {},
   "outputs": [
    {
     "output_type": "execute_result",
     "data": {
      "text/plain": "4"
     },
     "metadata": {},
     "execution_count": 64
    }
   ],
   "source": [
    "df['bloodtype'].nunique()"
   ]
  },
  {
   "cell_type": "code",
   "execution_count": 65,
   "metadata": {},
   "outputs": [
    {
     "output_type": "execute_result",
     "data": {
      "text/plain": "B     5\nO     5\nA     4\nAB    3\nName: bloodtype, dtype: int64"
     },
     "metadata": {},
     "execution_count": 65
    }
   ],
   "source": [
    "#도수분포표\n",
    "df['bloodtype'].value_counts()"
   ]
  },
  {
   "cell_type": "code",
   "execution_count": 66,
   "metadata": {},
   "outputs": [
    {
     "output_type": "execute_result",
     "data": {
      "text/plain": "M    10\nF     7\nName: gender, dtype: int64"
     },
     "metadata": {},
     "execution_count": 66
    }
   ],
   "source": [
    "#도수분포표\n",
    "df['gender'].value_counts()"
   ]
  },
  {
   "cell_type": "markdown",
   "metadata": {},
   "source": [
    "### 피보팅"
   ]
  },
  {
   "cell_type": "code",
   "execution_count": 67,
   "metadata": {},
   "outputs": [
    {
     "output_type": "execute_result",
     "data": {
      "text/plain": "     A    B      C  D  E\n0  foo  one  small  1  2\n1  foo  one  large  2  4\n2  foo  one  large  2  5\n3  foo  two  small  3  5\n4  foo  two  small  3  6\n5  bar  one  large  4  6\n6  bar  one  small  5  8\n7  bar  two  small  6  9\n8  bar  two  large  7  9",
      "text/html": "<div>\n<style scoped>\n    .dataframe tbody tr th:only-of-type {\n        vertical-align: middle;\n    }\n\n    .dataframe tbody tr th {\n        vertical-align: top;\n    }\n\n    .dataframe thead th {\n        text-align: right;\n    }\n</style>\n<table border=\"1\" class=\"dataframe\">\n  <thead>\n    <tr style=\"text-align: right;\">\n      <th></th>\n      <th>A</th>\n      <th>B</th>\n      <th>C</th>\n      <th>D</th>\n      <th>E</th>\n    </tr>\n  </thead>\n  <tbody>\n    <tr>\n      <th>0</th>\n      <td>foo</td>\n      <td>one</td>\n      <td>small</td>\n      <td>1</td>\n      <td>2</td>\n    </tr>\n    <tr>\n      <th>1</th>\n      <td>foo</td>\n      <td>one</td>\n      <td>large</td>\n      <td>2</td>\n      <td>4</td>\n    </tr>\n    <tr>\n      <th>2</th>\n      <td>foo</td>\n      <td>one</td>\n      <td>large</td>\n      <td>2</td>\n      <td>5</td>\n    </tr>\n    <tr>\n      <th>3</th>\n      <td>foo</td>\n      <td>two</td>\n      <td>small</td>\n      <td>3</td>\n      <td>5</td>\n    </tr>\n    <tr>\n      <th>4</th>\n      <td>foo</td>\n      <td>two</td>\n      <td>small</td>\n      <td>3</td>\n      <td>6</td>\n    </tr>\n    <tr>\n      <th>5</th>\n      <td>bar</td>\n      <td>one</td>\n      <td>large</td>\n      <td>4</td>\n      <td>6</td>\n    </tr>\n    <tr>\n      <th>6</th>\n      <td>bar</td>\n      <td>one</td>\n      <td>small</td>\n      <td>5</td>\n      <td>8</td>\n    </tr>\n    <tr>\n      <th>7</th>\n      <td>bar</td>\n      <td>two</td>\n      <td>small</td>\n      <td>6</td>\n      <td>9</td>\n    </tr>\n    <tr>\n      <th>8</th>\n      <td>bar</td>\n      <td>two</td>\n      <td>large</td>\n      <td>7</td>\n      <td>9</td>\n    </tr>\n  </tbody>\n</table>\n</div>"
     },
     "metadata": {},
     "execution_count": 67
    }
   ],
   "source": [
    "df = pd.DataFrame({\"A\": [\"foo\", \"foo\", \"foo\", \"foo\", \"foo\",\n",
    "                          \"bar\", \"bar\", \"bar\", \"bar\"],\n",
    "                    \"B\": [\"one\", \"one\", \"one\", \"two\", \"two\",\n",
    "                          \"one\", \"one\", \"two\", \"two\"],\n",
    "                    \"C\": [\"small\", \"large\", \"large\", \"small\",\n",
    "                          \"small\", \"large\", \"small\", \"small\",\n",
    "                          \"large\"],\n",
    "                    \"D\": [1, 2, 2, 3, 3, 4, 5, 6, 7],\n",
    "                    \"E\": [2, 4, 5, 5, 6, 6, 8, 9, 9]})\n",
    "df"
   ]
  },
  {
   "cell_type": "code",
   "execution_count": 68,
   "metadata": {},
   "outputs": [
    {
     "output_type": "execute_result",
     "data": {
      "text/plain": "C        large  small\nA   B                \nbar one    6.0    8.0\n    two    9.0    9.0\nfoo one    4.5    2.0\n    two    NaN    5.5",
      "text/html": "<div>\n<style scoped>\n    .dataframe tbody tr th:only-of-type {\n        vertical-align: middle;\n    }\n\n    .dataframe tbody tr th {\n        vertical-align: top;\n    }\n\n    .dataframe thead th {\n        text-align: right;\n    }\n</style>\n<table border=\"1\" class=\"dataframe\">\n  <thead>\n    <tr style=\"text-align: right;\">\n      <th></th>\n      <th>C</th>\n      <th>large</th>\n      <th>small</th>\n    </tr>\n    <tr>\n      <th>A</th>\n      <th>B</th>\n      <th></th>\n      <th></th>\n    </tr>\n  </thead>\n  <tbody>\n    <tr>\n      <th rowspan=\"2\" valign=\"top\">bar</th>\n      <th>one</th>\n      <td>6.0</td>\n      <td>8.0</td>\n    </tr>\n    <tr>\n      <th>two</th>\n      <td>9.0</td>\n      <td>9.0</td>\n    </tr>\n    <tr>\n      <th rowspan=\"2\" valign=\"top\">foo</th>\n      <th>one</th>\n      <td>4.5</td>\n      <td>2.0</td>\n    </tr>\n    <tr>\n      <th>two</th>\n      <td>NaN</td>\n      <td>5.5</td>\n    </tr>\n  </tbody>\n</table>\n</div>"
     },
     "metadata": {},
     "execution_count": 68
    }
   ],
   "source": [
    "# A,B의 값으로 인덱스, C의 값으로 컬럼, 실제 셀에 들어가는 값은 E의 평균.\n",
    "dfr = pd.pivot_table(df, index=['A','B'], columns='C', values='E')      \n",
    "dfr"
   ]
  },
  {
   "cell_type": "code",
   "execution_count": 69,
   "metadata": {},
   "outputs": [
    {
     "output_type": "execute_result",
     "data": {
      "text/plain": "Index(['large', 'small'], dtype='object', name='C')"
     },
     "metadata": {},
     "execution_count": 69
    }
   ],
   "source": [
    "dfr.columns"
   ]
  },
  {
   "cell_type": "code",
   "execution_count": 70,
   "metadata": {},
   "outputs": [
    {
     "output_type": "execute_result",
     "data": {
      "text/plain": "MultiIndex([('bar', 'one'),\n            ('bar', 'two'),\n            ('foo', 'one'),\n            ('foo', 'two')],\n           names=['A', 'B'])"
     },
     "metadata": {},
     "execution_count": 70
    }
   ],
   "source": [
    "dfr.index                                                                 # 행의 인덱스가 멀티인덱스 !"
   ]
  },
  {
   "cell_type": "code",
   "execution_count": 71,
   "metadata": {},
   "outputs": [
    {
     "output_type": "execute_result",
     "data": {
      "text/plain": "C        large  small\nA   B                \nbar one    6.0    8.0\n    two    9.0    9.0\nfoo one    4.5    2.0\n    two    0.0    5.5",
      "text/html": "<div>\n<style scoped>\n    .dataframe tbody tr th:only-of-type {\n        vertical-align: middle;\n    }\n\n    .dataframe tbody tr th {\n        vertical-align: top;\n    }\n\n    .dataframe thead th {\n        text-align: right;\n    }\n</style>\n<table border=\"1\" class=\"dataframe\">\n  <thead>\n    <tr style=\"text-align: right;\">\n      <th></th>\n      <th>C</th>\n      <th>large</th>\n      <th>small</th>\n    </tr>\n    <tr>\n      <th>A</th>\n      <th>B</th>\n      <th></th>\n      <th></th>\n    </tr>\n  </thead>\n  <tbody>\n    <tr>\n      <th rowspan=\"2\" valign=\"top\">bar</th>\n      <th>one</th>\n      <td>6.0</td>\n      <td>8.0</td>\n    </tr>\n    <tr>\n      <th>two</th>\n      <td>9.0</td>\n      <td>9.0</td>\n    </tr>\n    <tr>\n      <th rowspan=\"2\" valign=\"top\">foo</th>\n      <th>one</th>\n      <td>4.5</td>\n      <td>2.0</td>\n    </tr>\n    <tr>\n      <th>two</th>\n      <td>0.0</td>\n      <td>5.5</td>\n    </tr>\n  </tbody>\n</table>\n</div>"
     },
     "metadata": {},
     "execution_count": 71
    }
   ],
   "source": [
    "pd.pivot_table(df, index=['A','B'], columns='C', values='E', fill_value=0)"
   ]
  },
  {
   "cell_type": "code",
   "execution_count": 72,
   "metadata": {},
   "outputs": [
    {
     "output_type": "execute_result",
     "data": {
      "text/plain": "C        large  small\nA   B                \nbar one    6.0    8.0\n    two    9.0    9.0\nfoo one    4.5    2.0\n    two    0.0    5.5",
      "text/html": "<div>\n<style scoped>\n    .dataframe tbody tr th:only-of-type {\n        vertical-align: middle;\n    }\n\n    .dataframe tbody tr th {\n        vertical-align: top;\n    }\n\n    .dataframe thead th {\n        text-align: right;\n    }\n</style>\n<table border=\"1\" class=\"dataframe\">\n  <thead>\n    <tr style=\"text-align: right;\">\n      <th></th>\n      <th>C</th>\n      <th>large</th>\n      <th>small</th>\n    </tr>\n    <tr>\n      <th>A</th>\n      <th>B</th>\n      <th></th>\n      <th></th>\n    </tr>\n  </thead>\n  <tbody>\n    <tr>\n      <th rowspan=\"2\" valign=\"top\">bar</th>\n      <th>one</th>\n      <td>6.0</td>\n      <td>8.0</td>\n    </tr>\n    <tr>\n      <th>two</th>\n      <td>9.0</td>\n      <td>9.0</td>\n    </tr>\n    <tr>\n      <th rowspan=\"2\" valign=\"top\">foo</th>\n      <th>one</th>\n      <td>4.5</td>\n      <td>2.0</td>\n    </tr>\n    <tr>\n      <th>two</th>\n      <td>0.0</td>\n      <td>5.5</td>\n    </tr>\n  </tbody>\n</table>\n</div>"
     },
     "metadata": {},
     "execution_count": 72
    }
   ],
   "source": [
    "pd.pivot_table(df, index=['A','B'], columns='C', values='E', aggfunc=np.mean, fill_value=0)"
   ]
  },
  {
   "cell_type": "code",
   "execution_count": 73,
   "metadata": {},
   "outputs": [
    {
     "output_type": "execute_result",
     "data": {
      "text/plain": "A      bar       foo     \nB      one  two  one  two\nC                        \nlarge  6.0  9.0  4.5  NaN\nsmall  8.0  9.0  2.0  5.5",
      "text/html": "<div>\n<style scoped>\n    .dataframe tbody tr th:only-of-type {\n        vertical-align: middle;\n    }\n\n    .dataframe tbody tr th {\n        vertical-align: top;\n    }\n\n    .dataframe thead tr th {\n        text-align: left;\n    }\n\n    .dataframe thead tr:last-of-type th {\n        text-align: right;\n    }\n</style>\n<table border=\"1\" class=\"dataframe\">\n  <thead>\n    <tr>\n      <th>A</th>\n      <th colspan=\"2\" halign=\"left\">bar</th>\n      <th colspan=\"2\" halign=\"left\">foo</th>\n    </tr>\n    <tr>\n      <th>B</th>\n      <th>one</th>\n      <th>two</th>\n      <th>one</th>\n      <th>two</th>\n    </tr>\n    <tr>\n      <th>C</th>\n      <th></th>\n      <th></th>\n      <th></th>\n      <th></th>\n    </tr>\n  </thead>\n  <tbody>\n    <tr>\n      <th>large</th>\n      <td>6.0</td>\n      <td>9.0</td>\n      <td>4.5</td>\n      <td>NaN</td>\n    </tr>\n    <tr>\n      <th>small</th>\n      <td>8.0</td>\n      <td>9.0</td>\n      <td>2.0</td>\n      <td>5.5</td>\n    </tr>\n  </tbody>\n</table>\n</div>"
     },
     "metadata": {},
     "execution_count": 73
    }
   ],
   "source": [
    "# C의 값으로 인덱스, A, B의 값으로 컬럼, 실제 셀에 들어가는 값은 E의 평균.\n",
    "dfr = pd.pivot_table(df, index='C', columns=['A','B'], values='E')\n",
    "dfr"
   ]
  },
  {
   "cell_type": "code",
   "execution_count": 74,
   "metadata": {},
   "outputs": [
    {
     "output_type": "execute_result",
     "data": {
      "text/plain": "Index(['large', 'small'], dtype='object', name='C')"
     },
     "metadata": {},
     "execution_count": 74
    }
   ],
   "source": [
    "dfr.index"
   ]
  },
  {
   "cell_type": "code",
   "execution_count": 75,
   "metadata": {},
   "outputs": [
    {
     "output_type": "execute_result",
     "data": {
      "text/plain": "MultiIndex([('bar', 'one'),\n            ('bar', 'two'),\n            ('foo', 'one'),\n            ('foo', 'two')],\n           names=['A', 'B'])"
     },
     "metadata": {},
     "execution_count": 75
    }
   ],
   "source": [
    "dfr.columns                                                           # 이제는 컬럼이 멀티인덱스 !"
   ]
  },
  {
   "cell_type": "code",
   "execution_count": 76,
   "metadata": {},
   "outputs": [
    {
     "output_type": "execute_result",
     "data": {
      "text/plain": "C        large  small\nA   B                \nbar one    6.0    8.0\n    two    9.0    9.0\nfoo one    4.5    2.0\n    two    0.0    5.5",
      "text/html": "<div>\n<style scoped>\n    .dataframe tbody tr th:only-of-type {\n        vertical-align: middle;\n    }\n\n    .dataframe tbody tr th {\n        vertical-align: top;\n    }\n\n    .dataframe thead th {\n        text-align: right;\n    }\n</style>\n<table border=\"1\" class=\"dataframe\">\n  <thead>\n    <tr style=\"text-align: right;\">\n      <th></th>\n      <th>C</th>\n      <th>large</th>\n      <th>small</th>\n    </tr>\n    <tr>\n      <th>A</th>\n      <th>B</th>\n      <th></th>\n      <th></th>\n    </tr>\n  </thead>\n  <tbody>\n    <tr>\n      <th rowspan=\"2\" valign=\"top\">bar</th>\n      <th>one</th>\n      <td>6.0</td>\n      <td>8.0</td>\n    </tr>\n    <tr>\n      <th>two</th>\n      <td>9.0</td>\n      <td>9.0</td>\n    </tr>\n    <tr>\n      <th rowspan=\"2\" valign=\"top\">foo</th>\n      <th>one</th>\n      <td>4.5</td>\n      <td>2.0</td>\n    </tr>\n    <tr>\n      <th>two</th>\n      <td>0.0</td>\n      <td>5.5</td>\n    </tr>\n  </tbody>\n</table>\n</div>"
     },
     "metadata": {},
     "execution_count": 76
    }
   ],
   "source": [
    "# A,B의 값으로 인덱스, C의 값으로 컬럼, 실제 셀에 들어가는 값은 E의 중양값.\n",
    "pd.pivot_table(df, index=['A','B'], columns='C', values='E', aggfunc=np.median,fill_value=0)"
   ]
  },
  {
   "cell_type": "code",
   "execution_count": 77,
   "metadata": {},
   "outputs": [
    {
     "output_type": "execute_result",
     "data": {
      "text/plain": "C        large  small\nA   B                \nbar one      6      8\n    two      9      9\nfoo one      9      2\n    two      0     11",
      "text/html": "<div>\n<style scoped>\n    .dataframe tbody tr th:only-of-type {\n        vertical-align: middle;\n    }\n\n    .dataframe tbody tr th {\n        vertical-align: top;\n    }\n\n    .dataframe thead th {\n        text-align: right;\n    }\n</style>\n<table border=\"1\" class=\"dataframe\">\n  <thead>\n    <tr style=\"text-align: right;\">\n      <th></th>\n      <th>C</th>\n      <th>large</th>\n      <th>small</th>\n    </tr>\n    <tr>\n      <th>A</th>\n      <th>B</th>\n      <th></th>\n      <th></th>\n    </tr>\n  </thead>\n  <tbody>\n    <tr>\n      <th rowspan=\"2\" valign=\"top\">bar</th>\n      <th>one</th>\n      <td>6</td>\n      <td>8</td>\n    </tr>\n    <tr>\n      <th>two</th>\n      <td>9</td>\n      <td>9</td>\n    </tr>\n    <tr>\n      <th rowspan=\"2\" valign=\"top\">foo</th>\n      <th>one</th>\n      <td>9</td>\n      <td>2</td>\n    </tr>\n    <tr>\n      <th>two</th>\n      <td>0</td>\n      <td>11</td>\n    </tr>\n  </tbody>\n</table>\n</div>"
     },
     "metadata": {},
     "execution_count": 77
    }
   ],
   "source": [
    "pd.pivot_table(df, index=['A','B'], columns='C', values='E', aggfunc=np.sum, fill_value=0)"
   ]
  },
  {
   "cell_type": "code",
   "execution_count": 78,
   "metadata": {},
   "outputs": [
    {
     "output_type": "execute_result",
     "data": {
      "text/plain": "                D         E\nA   B                      \nbar one  4.500000  7.000000\n    two  6.500000  9.000000\nfoo one  1.666667  3.666667\n    two  3.000000  5.500000",
      "text/html": "<div>\n<style scoped>\n    .dataframe tbody tr th:only-of-type {\n        vertical-align: middle;\n    }\n\n    .dataframe tbody tr th {\n        vertical-align: top;\n    }\n\n    .dataframe thead th {\n        text-align: right;\n    }\n</style>\n<table border=\"1\" class=\"dataframe\">\n  <thead>\n    <tr style=\"text-align: right;\">\n      <th></th>\n      <th></th>\n      <th>D</th>\n      <th>E</th>\n    </tr>\n    <tr>\n      <th>A</th>\n      <th>B</th>\n      <th></th>\n      <th></th>\n    </tr>\n  </thead>\n  <tbody>\n    <tr>\n      <th rowspan=\"2\" valign=\"top\">bar</th>\n      <th>one</th>\n      <td>4.500000</td>\n      <td>7.000000</td>\n    </tr>\n    <tr>\n      <th>two</th>\n      <td>6.500000</td>\n      <td>9.000000</td>\n    </tr>\n    <tr>\n      <th rowspan=\"2\" valign=\"top\">foo</th>\n      <th>one</th>\n      <td>1.666667</td>\n      <td>3.666667</td>\n    </tr>\n    <tr>\n      <th>two</th>\n      <td>3.000000</td>\n      <td>5.500000</td>\n    </tr>\n  </tbody>\n</table>\n</div>"
     },
     "metadata": {},
     "execution_count": 78
    }
   ],
   "source": [
    "# D와 E의 그룹평균.\n",
    "pd.pivot_table(df, index=['A','B'], values=['D','E'], aggfunc=np.mean)"
   ]
  },
  {
   "cell_type": "code",
   "execution_count": 79,
   "metadata": {},
   "outputs": [
    {
     "output_type": "execute_result",
     "data": {
      "text/plain": "                D         E\nA   B                      \nbar one  4.500000  7.000000\n    two  6.500000  9.000000\nfoo one  1.666667  3.666667\n    two  3.000000  5.500000",
      "text/html": "<div>\n<style scoped>\n    .dataframe tbody tr th:only-of-type {\n        vertical-align: middle;\n    }\n\n    .dataframe tbody tr th {\n        vertical-align: top;\n    }\n\n    .dataframe thead th {\n        text-align: right;\n    }\n</style>\n<table border=\"1\" class=\"dataframe\">\n  <thead>\n    <tr style=\"text-align: right;\">\n      <th></th>\n      <th></th>\n      <th>D</th>\n      <th>E</th>\n    </tr>\n    <tr>\n      <th>A</th>\n      <th>B</th>\n      <th></th>\n      <th></th>\n    </tr>\n  </thead>\n  <tbody>\n    <tr>\n      <th rowspan=\"2\" valign=\"top\">bar</th>\n      <th>one</th>\n      <td>4.500000</td>\n      <td>7.000000</td>\n    </tr>\n    <tr>\n      <th>two</th>\n      <td>6.500000</td>\n      <td>9.000000</td>\n    </tr>\n    <tr>\n      <th rowspan=\"2\" valign=\"top\">foo</th>\n      <th>one</th>\n      <td>1.666667</td>\n      <td>3.666667</td>\n    </tr>\n    <tr>\n      <th>two</th>\n      <td>3.000000</td>\n      <td>5.500000</td>\n    </tr>\n  </tbody>\n</table>\n</div>"
     },
     "metadata": {},
     "execution_count": 79
    }
   ],
   "source": [
    "# 위 결과와 비교.\n",
    "df.groupby(['A','B'])[['D','E']].mean()"
   ]
  },
  {
   "cell_type": "code",
   "execution_count": 80,
   "metadata": {},
   "outputs": [
    {
     "output_type": "execute_result",
     "data": {
      "text/plain": "                D    E\nA   B                 \nbar one  4.500000  7.0\n    two  6.500000  9.0\nfoo one  1.666667  4.0\n    two  3.000000  5.5",
      "text/html": "<div>\n<style scoped>\n    .dataframe tbody tr th:only-of-type {\n        vertical-align: middle;\n    }\n\n    .dataframe tbody tr th {\n        vertical-align: top;\n    }\n\n    .dataframe thead th {\n        text-align: right;\n    }\n</style>\n<table border=\"1\" class=\"dataframe\">\n  <thead>\n    <tr style=\"text-align: right;\">\n      <th></th>\n      <th></th>\n      <th>D</th>\n      <th>E</th>\n    </tr>\n    <tr>\n      <th>A</th>\n      <th>B</th>\n      <th></th>\n      <th></th>\n    </tr>\n  </thead>\n  <tbody>\n    <tr>\n      <th rowspan=\"2\" valign=\"top\">bar</th>\n      <th>one</th>\n      <td>4.500000</td>\n      <td>7.0</td>\n    </tr>\n    <tr>\n      <th>two</th>\n      <td>6.500000</td>\n      <td>9.0</td>\n    </tr>\n    <tr>\n      <th rowspan=\"2\" valign=\"top\">foo</th>\n      <th>one</th>\n      <td>1.666667</td>\n      <td>4.0</td>\n    </tr>\n    <tr>\n      <th>two</th>\n      <td>3.000000</td>\n      <td>5.5</td>\n    </tr>\n  </tbody>\n</table>\n</div>"
     },
     "metadata": {},
     "execution_count": 80
    }
   ],
   "source": [
    "# D, E를 다른 방법으로 집계함.\n",
    "pd.pivot_table(df, index=['A','B'], values=['D','E'], aggfunc={'D':np.mean,'E':np.median})"
   ]
  },
  {
   "cell_type": "code",
   "execution_count": null,
   "metadata": {},
   "outputs": [],
   "source": []
  }
 ],
 "metadata": {
  "kernelspec": {
   "display_name": "Python 3",
   "language": "python",
   "name": "python3"
  },
  "language_info": {
   "codemirror_mode": {
    "name": "ipython",
    "version": 3
   },
   "file_extension": ".py",
   "mimetype": "text/x-python",
   "name": "python",
   "nbconvert_exporter": "python",
   "pygments_lexer": "ipython3",
   "version": "3.7.6"
  }
 },
 "nbformat": 4,
 "nbformat_minor": 2
}