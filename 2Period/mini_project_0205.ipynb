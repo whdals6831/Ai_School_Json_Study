{
 "metadata": {
  "language_info": {
   "codemirror_mode": {
    "name": "ipython",
    "version": 3
   },
   "file_extension": ".py",
   "mimetype": "text/x-python",
   "name": "python",
   "nbconvert_exporter": "python",
   "pygments_lexer": "ipython3",
   "version": "3.7.6-final"
  },
  "orig_nbformat": 2,
  "kernelspec": {
   "name": "python3",
   "display_name": "Python 3"
  }
 },
 "nbformat": 4,
 "nbformat_minor": 2,
 "cells": [
  {
   "cell_type": "code",
   "execution_count": 1,
   "metadata": {},
   "outputs": [],
   "source": [
    "import os\n",
    "import numpy as np\n",
    "import pandas as pd\n",
    "import matplotlib.pyplot as plt\n",
    "from matplotlib import font_manager, rc\n",
    "\n",
    "font_name = font_manager.FontProperties(fname='C:\\\\Windows\\\\Fonts\\\\malgun.ttf').get_name()\n",
    "rc('font', family=font_name)"
   ]
  },
  {
   "cell_type": "code",
   "execution_count": 5,
   "metadata": {},
   "outputs": [
    {
     "output_type": "execute_result",
     "data": {
      "text/plain": "(17, 8)"
     },
     "metadata": {},
     "execution_count": 5
    }
   ],
   "source": [
    "df = pd.read_csv('./data/data_studentlist_en.csv')\n",
    "df.shape"
   ]
  },
  {
   "cell_type": "code",
   "execution_count": 6,
   "metadata": {},
   "outputs": [
    {
     "output_type": "execute_result",
     "data": {
      "text/plain": "              name gender  age  grade absence bloodtype  height  weight\n0    Jared Diamond      M   23      3       Y         O   165.3    68.2\n1   Sarah O'Donnel      F   22      2       N        AB   170.1    53.0\n2     Brian Martin      M   24      4       N         B   175.0    80.1\n3     David Hassel      M   23      3       N        AB   182.1    85.7\n4  Clara Rodriquez      F   20      1       Y         A   168.0    49.5",
      "text/html": "<div>\n<style scoped>\n    .dataframe tbody tr th:only-of-type {\n        vertical-align: middle;\n    }\n\n    .dataframe tbody tr th {\n        vertical-align: top;\n    }\n\n    .dataframe thead th {\n        text-align: right;\n    }\n</style>\n<table border=\"1\" class=\"dataframe\">\n  <thead>\n    <tr style=\"text-align: right;\">\n      <th></th>\n      <th>name</th>\n      <th>gender</th>\n      <th>age</th>\n      <th>grade</th>\n      <th>absence</th>\n      <th>bloodtype</th>\n      <th>height</th>\n      <th>weight</th>\n    </tr>\n  </thead>\n  <tbody>\n    <tr>\n      <th>0</th>\n      <td>Jared Diamond</td>\n      <td>M</td>\n      <td>23</td>\n      <td>3</td>\n      <td>Y</td>\n      <td>O</td>\n      <td>165.3</td>\n      <td>68.2</td>\n    </tr>\n    <tr>\n      <th>1</th>\n      <td>Sarah O'Donnel</td>\n      <td>F</td>\n      <td>22</td>\n      <td>2</td>\n      <td>N</td>\n      <td>AB</td>\n      <td>170.1</td>\n      <td>53.0</td>\n    </tr>\n    <tr>\n      <th>2</th>\n      <td>Brian Martin</td>\n      <td>M</td>\n      <td>24</td>\n      <td>4</td>\n      <td>N</td>\n      <td>B</td>\n      <td>175.0</td>\n      <td>80.1</td>\n    </tr>\n    <tr>\n      <th>3</th>\n      <td>David Hassel</td>\n      <td>M</td>\n      <td>23</td>\n      <td>3</td>\n      <td>N</td>\n      <td>AB</td>\n      <td>182.1</td>\n      <td>85.7</td>\n    </tr>\n    <tr>\n      <th>4</th>\n      <td>Clara Rodriquez</td>\n      <td>F</td>\n      <td>20</td>\n      <td>1</td>\n      <td>Y</td>\n      <td>A</td>\n      <td>168.0</td>\n      <td>49.5</td>\n    </tr>\n  </tbody>\n</table>\n</div>"
     },
     "metadata": {},
     "execution_count": 6
    }
   ],
   "source": [
    "df.head()"
   ]
  },
  {
   "cell_type": "code",
   "execution_count": 29,
   "metadata": {
    "tags": []
   },
   "outputs": [
    {
     "output_type": "execute_result",
     "data": {
      "text/plain": "            height\nbloodtype         \nA          169.075\nAB         177.400\nB          171.280\nO          165.140",
      "text/html": "<div>\n<style scoped>\n    .dataframe tbody tr th:only-of-type {\n        vertical-align: middle;\n    }\n\n    .dataframe tbody tr th {\n        vertical-align: top;\n    }\n\n    .dataframe thead th {\n        text-align: right;\n    }\n</style>\n<table border=\"1\" class=\"dataframe\">\n  <thead>\n    <tr style=\"text-align: right;\">\n      <th></th>\n      <th>height</th>\n    </tr>\n    <tr>\n      <th>bloodtype</th>\n      <th></th>\n    </tr>\n  </thead>\n  <tbody>\n    <tr>\n      <th>A</th>\n      <td>169.075</td>\n    </tr>\n    <tr>\n      <th>AB</th>\n      <td>177.400</td>\n    </tr>\n    <tr>\n      <th>B</th>\n      <td>171.280</td>\n    </tr>\n    <tr>\n      <th>O</th>\n      <td>165.140</td>\n    </tr>\n  </tbody>\n</table>\n</div>"
     },
     "metadata": {},
     "execution_count": 29
    }
   ],
   "source": [
    "df.groupby('bloodtype')['height',].mean()"
   ]
  },
  {
   "cell_type": "code",
   "execution_count": 19,
   "metadata": {},
   "outputs": [
    {
     "output_type": "execute_result",
     "data": {
      "text/plain": "            height\nbloodtype         \nA          169.075\nAB         177.400\nB          171.280\nO          165.140",
      "text/html": "<div>\n<style scoped>\n    .dataframe tbody tr th:only-of-type {\n        vertical-align: middle;\n    }\n\n    .dataframe tbody tr th {\n        vertical-align: top;\n    }\n\n    .dataframe thead th {\n        text-align: right;\n    }\n</style>\n<table border=\"1\" class=\"dataframe\">\n  <thead>\n    <tr style=\"text-align: right;\">\n      <th></th>\n      <th>height</th>\n    </tr>\n    <tr>\n      <th>bloodtype</th>\n      <th></th>\n    </tr>\n  </thead>\n  <tbody>\n    <tr>\n      <th>A</th>\n      <td>169.075</td>\n    </tr>\n    <tr>\n      <th>AB</th>\n      <td>177.400</td>\n    </tr>\n    <tr>\n      <th>B</th>\n      <td>171.280</td>\n    </tr>\n    <tr>\n      <th>O</th>\n      <td>165.140</td>\n    </tr>\n  </tbody>\n</table>\n</div>"
     },
     "metadata": {},
     "execution_count": 19
    }
   ],
   "source": [
    "df.pivot_table(index='bloodtype',values='height',aggfunc=np.mean)"
   ]
  },
  {
   "cell_type": "code",
   "execution_count": 21,
   "metadata": {},
   "outputs": [
    {
     "output_type": "execute_result",
     "data": {
      "text/plain": "bloodtype        A     AB       B       O\nheight     169.075  177.4  171.28  165.14",
      "text/html": "<div>\n<style scoped>\n    .dataframe tbody tr th:only-of-type {\n        vertical-align: middle;\n    }\n\n    .dataframe tbody tr th {\n        vertical-align: top;\n    }\n\n    .dataframe thead th {\n        text-align: right;\n    }\n</style>\n<table border=\"1\" class=\"dataframe\">\n  <thead>\n    <tr style=\"text-align: right;\">\n      <th>bloodtype</th>\n      <th>A</th>\n      <th>AB</th>\n      <th>B</th>\n      <th>O</th>\n    </tr>\n  </thead>\n  <tbody>\n    <tr>\n      <th>height</th>\n      <td>169.075</td>\n      <td>177.4</td>\n      <td>171.28</td>\n      <td>165.14</td>\n    </tr>\n  </tbody>\n</table>\n</div>"
     },
     "metadata": {},
     "execution_count": 21
    }
   ],
   "source": [
    "df.pivot_table(columns='bloodtype',values='height',aggfunc=np.mean)"
   ]
  }
 ]
}