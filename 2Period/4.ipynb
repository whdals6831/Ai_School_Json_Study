{
 "cells": [
  {
   "cell_type": "code",
   "execution_count": 1,
   "metadata": {},
   "outputs": [],
   "source": [
    "import os\n",
    "import numpy as np\n",
    "import pandas as pd\n",
    "import matplotlib.pyplot as plt\n",
    "from matplotlib import font_manager, rc\n",
    "\n",
    "font_name = font_manager.FontProperties(fname='C:\\\\Windows\\\\Fonts\\\\malgun.ttf').get_name()\n",
    "rc('font', family=font_name)"
   ]
  },
  {
   "cell_type": "code",
   "execution_count": 2,
   "metadata": {},
   "outputs": [],
   "source": [
    "my_header = ['a','b','c']"
   ]
  },
  {
   "cell_type": "code",
   "execution_count": 3,
   "metadata": {},
   "outputs": [
    {
     "output_type": "execute_result",
     "data": {
      "text/plain": "['G1', 'G1', 'G1', 'G2', 'G2', 'G2']"
     },
     "metadata": {},
     "execution_count": 3
    }
   ],
   "source": [
    "my_index_out = ['G1']*3 + ['G2']*3\n",
    "my_index_out"
   ]
  },
  {
   "cell_type": "code",
   "execution_count": 4,
   "metadata": {},
   "outputs": [
    {
     "output_type": "execute_result",
     "data": {
      "text/plain": "[1, 2, 3, 1, 2, 3]"
     },
     "metadata": {},
     "execution_count": 4
    }
   ],
   "source": [
    "my_index_in = [1,2,3]*2\n",
    "my_index_in"
   ]
  },
  {
   "cell_type": "code",
   "execution_count": 9,
   "metadata": {},
   "outputs": [],
   "source": [
    "my_index_zipped = list(zip(my_index_out, my_index_in))"
   ]
  },
  {
   "cell_type": "code",
   "execution_count": 13,
   "metadata": {},
   "outputs": [
    {
     "output_type": "execute_result",
     "data": {
      "text/plain": "MultiIndex([('G1', 1),\n            ('G1', 2),\n            ('G1', 3),\n            ('G2', 1),\n            ('G2', 2),\n            ('G2', 3)],\n           names=['OUT', 'IN'])"
     },
     "metadata": {},
     "execution_count": 13
    }
   ],
   "source": [
    "my_index = pd.MultiIndex.from_tuples(my_index_zipped)\n",
    "my_index.names = ['OUT', 'IN']\n",
    "my_index"
   ]
  },
  {
   "cell_type": "code",
   "execution_count": 83,
   "metadata": {},
   "outputs": [
    {
     "output_type": "execute_result",
     "data": {
      "text/plain": "               a         b         c\nOUT IN                              \nG1  1  -0.296213 -1.417884  0.669891\n    2   0.783139  0.029126 -1.009978\n    3   0.541948  1.073297 -0.364947\nG2  1   0.551904 -1.439910  0.120262\n    2   1.305762  0.329354 -0.369044\n    3  -0.207207 -0.151995 -0.713100",
      "text/html": "<div>\n<style scoped>\n    .dataframe tbody tr th:only-of-type {\n        vertical-align: middle;\n    }\n\n    .dataframe tbody tr th {\n        vertical-align: top;\n    }\n\n    .dataframe thead th {\n        text-align: right;\n    }\n</style>\n<table border=\"1\" class=\"dataframe\">\n  <thead>\n    <tr style=\"text-align: right;\">\n      <th></th>\n      <th></th>\n      <th>a</th>\n      <th>b</th>\n      <th>c</th>\n    </tr>\n    <tr>\n      <th>OUT</th>\n      <th>IN</th>\n      <th></th>\n      <th></th>\n      <th></th>\n    </tr>\n  </thead>\n  <tbody>\n    <tr>\n      <th rowspan=\"3\" valign=\"top\">G1</th>\n      <th>1</th>\n      <td>-0.296213</td>\n      <td>-1.417884</td>\n      <td>0.669891</td>\n    </tr>\n    <tr>\n      <th>2</th>\n      <td>0.783139</td>\n      <td>0.029126</td>\n      <td>-1.009978</td>\n    </tr>\n    <tr>\n      <th>3</th>\n      <td>0.541948</td>\n      <td>1.073297</td>\n      <td>-0.364947</td>\n    </tr>\n    <tr>\n      <th rowspan=\"3\" valign=\"top\">G2</th>\n      <th>1</th>\n      <td>0.551904</td>\n      <td>-1.439910</td>\n      <td>0.120262</td>\n    </tr>\n    <tr>\n      <th>2</th>\n      <td>1.305762</td>\n      <td>0.329354</td>\n      <td>-0.369044</td>\n    </tr>\n    <tr>\n      <th>3</th>\n      <td>-0.207207</td>\n      <td>-0.151995</td>\n      <td>-0.713100</td>\n    </tr>\n  </tbody>\n</table>\n</div>"
     },
     "metadata": {},
     "execution_count": 83
    }
   ],
   "source": [
    "df = pd.DataFrame(data=np.random.randn(6,3), columns=my_header, index=my_index)\n",
    "# df = pd.DataFrame(data=np.random.randn(3,6), index=my_header, columns=my_index)  # 이것도 된다.\n",
    "df"
   ]
  },
  {
   "cell_type": "code",
   "execution_count": 26,
   "metadata": {},
   "outputs": [
    {
     "output_type": "execute_result",
     "data": {
      "text/plain": "-0.48254544320494147"
     },
     "metadata": {},
     "execution_count": 26
    }
   ],
   "source": [
    "df.loc['G1'].loc[1,'a'] # slice 할때 겹겹히 들어가서 하면 된다."
   ]
  },
  {
   "cell_type": "code",
   "execution_count": 99,
   "metadata": {},
   "outputs": [],
   "source": [
    "df = pd.read_csv('./data/data_studentlist_en.csv', header='infer', encoding='latin1')"
   ]
  },
  {
   "cell_type": "code",
   "execution_count": 35,
   "metadata": {},
   "outputs": [
    {
     "output_type": "execute_result",
     "data": {
      "text/plain": "             name gender  age  grade absence bloodtype  height  weight\n0   Jared Diamond      M   23      3       Y         O   165.3    68.2\n1  Sarah O'Donnel      F   22      2       N        AB   170.1    53.0\n2    Brian Martin      M   24      4       N         B   175.0    80.1",
      "text/html": "<div>\n<style scoped>\n    .dataframe tbody tr th:only-of-type {\n        vertical-align: middle;\n    }\n\n    .dataframe tbody tr th {\n        vertical-align: top;\n    }\n\n    .dataframe thead th {\n        text-align: right;\n    }\n</style>\n<table border=\"1\" class=\"dataframe\">\n  <thead>\n    <tr style=\"text-align: right;\">\n      <th></th>\n      <th>name</th>\n      <th>gender</th>\n      <th>age</th>\n      <th>grade</th>\n      <th>absence</th>\n      <th>bloodtype</th>\n      <th>height</th>\n      <th>weight</th>\n    </tr>\n  </thead>\n  <tbody>\n    <tr>\n      <th>0</th>\n      <td>Jared Diamond</td>\n      <td>M</td>\n      <td>23</td>\n      <td>3</td>\n      <td>Y</td>\n      <td>O</td>\n      <td>165.3</td>\n      <td>68.2</td>\n    </tr>\n    <tr>\n      <th>1</th>\n      <td>Sarah O'Donnel</td>\n      <td>F</td>\n      <td>22</td>\n      <td>2</td>\n      <td>N</td>\n      <td>AB</td>\n      <td>170.1</td>\n      <td>53.0</td>\n    </tr>\n    <tr>\n      <th>2</th>\n      <td>Brian Martin</td>\n      <td>M</td>\n      <td>24</td>\n      <td>4</td>\n      <td>N</td>\n      <td>B</td>\n      <td>175.0</td>\n      <td>80.1</td>\n    </tr>\n  </tbody>\n</table>\n</div>"
     },
     "metadata": {},
     "execution_count": 35
    }
   ],
   "source": [
    "df.head(3)"
   ]
  },
  {
   "cell_type": "code",
   "execution_count": 36,
   "metadata": {},
   "outputs": [
    {
     "output_type": "execute_result",
     "data": {
      "text/plain": "172.41"
     },
     "metadata": {},
     "execution_count": 36
    }
   ],
   "source": [
    "df[df.gender=='M'].height.mean()"
   ]
  },
  {
   "cell_type": "code",
   "execution_count": 37,
   "metadata": {},
   "outputs": [
    {
     "output_type": "execute_result",
     "data": {
      "text/plain": "166.64285714285714"
     },
     "metadata": {},
     "execution_count": 37
    }
   ],
   "source": [
    "df[df.gender=='F'].height.mean()"
   ]
  },
  {
   "cell_type": "code",
   "execution_count": 38,
   "metadata": {},
   "outputs": [
    {
     "output_type": "execute_result",
     "data": {
      "text/plain": "                 age     grade   height  weight\nbloodtype                                      \nA          21.250000  1.000000  169.075   55.50\nAB         22.333333  2.333333  177.400   71.50\nB          23.000000  3.000000  171.280   64.20\nO          22.600000  2.600000  165.140   56.12",
      "text/html": "<div>\n<style scoped>\n    .dataframe tbody tr th:only-of-type {\n        vertical-align: middle;\n    }\n\n    .dataframe tbody tr th {\n        vertical-align: top;\n    }\n\n    .dataframe thead th {\n        text-align: right;\n    }\n</style>\n<table border=\"1\" class=\"dataframe\">\n  <thead>\n    <tr style=\"text-align: right;\">\n      <th></th>\n      <th>age</th>\n      <th>grade</th>\n      <th>height</th>\n      <th>weight</th>\n    </tr>\n    <tr>\n      <th>bloodtype</th>\n      <th></th>\n      <th></th>\n      <th></th>\n      <th></th>\n    </tr>\n  </thead>\n  <tbody>\n    <tr>\n      <th>A</th>\n      <td>21.250000</td>\n      <td>1.000000</td>\n      <td>169.075</td>\n      <td>55.50</td>\n    </tr>\n    <tr>\n      <th>AB</th>\n      <td>22.333333</td>\n      <td>2.333333</td>\n      <td>177.400</td>\n      <td>71.50</td>\n    </tr>\n    <tr>\n      <th>B</th>\n      <td>23.000000</td>\n      <td>3.000000</td>\n      <td>171.280</td>\n      <td>64.20</td>\n    </tr>\n    <tr>\n      <th>O</th>\n      <td>22.600000</td>\n      <td>2.600000</td>\n      <td>165.140</td>\n      <td>56.12</td>\n    </tr>\n  </tbody>\n</table>\n</div>"
     },
     "metadata": {},
     "execution_count": 38
    }
   ],
   "source": [
    "# SELECT AVG(*) FROM table GROUP BY bloodtype\n",
    "\n",
    "df.groupby('bloodtype').mean()"
   ]
  },
  {
   "cell_type": "code",
   "execution_count": 48,
   "metadata": {},
   "outputs": [
    {
     "output_type": "execute_result",
     "data": {
      "text/plain": "                    height     weight\ngender absence                       \nF      N        166.416667  50.600000\n       Y        168.000000  49.500000\nM      N        174.728571  69.228571\n       Y        167.000000  66.800000",
      "text/html": "<div>\n<style scoped>\n    .dataframe tbody tr th:only-of-type {\n        vertical-align: middle;\n    }\n\n    .dataframe tbody tr th {\n        vertical-align: top;\n    }\n\n    .dataframe thead th {\n        text-align: right;\n    }\n</style>\n<table border=\"1\" class=\"dataframe\">\n  <thead>\n    <tr style=\"text-align: right;\">\n      <th></th>\n      <th></th>\n      <th>height</th>\n      <th>weight</th>\n    </tr>\n    <tr>\n      <th>gender</th>\n      <th>absence</th>\n      <th></th>\n      <th></th>\n    </tr>\n  </thead>\n  <tbody>\n    <tr>\n      <th rowspan=\"2\" valign=\"top\">F</th>\n      <th>N</th>\n      <td>166.416667</td>\n      <td>50.600000</td>\n    </tr>\n    <tr>\n      <th>Y</th>\n      <td>168.000000</td>\n      <td>49.500000</td>\n    </tr>\n    <tr>\n      <th rowspan=\"2\" valign=\"top\">M</th>\n      <th>N</th>\n      <td>174.728571</td>\n      <td>69.228571</td>\n    </tr>\n    <tr>\n      <th>Y</th>\n      <td>167.000000</td>\n      <td>66.800000</td>\n    </tr>\n  </tbody>\n</table>\n</div>"
     },
     "metadata": {},
     "execution_count": 48
    }
   ],
   "source": [
    "df2 = df.groupby(['gender','absence'])[['height','weight']].mean()  #  ==> multiindex\n",
    "df2"
   ]
  },
  {
   "cell_type": "code",
   "execution_count": 50,
   "metadata": {},
   "outputs": [
    {
     "output_type": "execute_result",
     "data": {
      "text/plain": "167.0"
     },
     "metadata": {},
     "execution_count": 50
    }
   ],
   "source": [
    "df2.loc['M'].loc['Y'].height  # dataframe에서는 .loc으로 indexing 하지만 \n",
    "                              # Series에서는 생략하고 indexing해도 된다.\n",
    "                              # ex) df['F']['N']"
   ]
  },
  {
   "cell_type": "code",
   "execution_count": 52,
   "metadata": {},
   "outputs": [],
   "source": [
    "df.height = df.height.apply(lambda x : x/100) # 값에 어떤 함수를 적용하는 법"
   ]
  },
  {
   "cell_type": "code",
   "execution_count": 53,
   "metadata": {},
   "outputs": [
    {
     "output_type": "execute_result",
     "data": {
      "text/plain": "0     1.653\n1     1.701\n2     1.750\n3     1.821\n4     1.680\n5     1.620\n6     1.552\n7     1.769\n8     1.785\n9     1.761\n10    1.671\n11    1.800\n12    1.622\n13    1.761\n14    1.582\n15    1.686\n16    1.692\nName: height, dtype: float64"
     },
     "metadata": {},
     "execution_count": 53
    }
   ],
   "source": [
    "df.height"
   ]
  },
  {
   "cell_type": "code",
   "execution_count": 103,
   "metadata": {},
   "outputs": [
    {
     "output_type": "execute_result",
     "data": {
      "text/plain": "                name gender  age  grade absence bloodtype  height  weight\n4    Clara Rodriquez      F   20      1       Y         A   168.0    49.5\n7    Margareth Jones      F   23      1       N         A   176.9    55.0\n12      Eddy Johnson      M   21      1       N         A   162.2    55.3\n16      Andrew Daley      M   21      1       N         A   169.2    62.2\n1     Sarah O'Donnel      F   22      2       N        AB   170.1    53.0\n3       David Hassel      M   23      3       N        AB   182.1    85.7\n11      John Matsuda      M   22      2       N        AB   180.0    75.8\n15    Richard Swayze      M   24      4       Y         B   168.6    70.2\n2       Brian Martin      M   24      4       N         B   175.0    80.1\n8       John Bertsch      M   23      3       N         B   178.5    64.2\n9     Jake Timmerman      M   22      2       N         B   176.1    61.3\n14      Linda Carter      F   22      2       N         B   158.2    45.2\n0      Jared Diamond      M   23      3       Y         O   165.3    68.2\n10     Joshua Connor      M   24      4       Y         O   167.1    62.0\n5   Jennifer Lorentz      F   21      2       N         O   162.0    52.0\n6        Susan Clark      F   22      1       N         O   155.2    45.3\n13  Rebecah Anderson      F   23      3       N         O   176.1    53.1",
      "text/html": "<div>\n<style scoped>\n    .dataframe tbody tr th:only-of-type {\n        vertical-align: middle;\n    }\n\n    .dataframe tbody tr th {\n        vertical-align: top;\n    }\n\n    .dataframe thead th {\n        text-align: right;\n    }\n</style>\n<table border=\"1\" class=\"dataframe\">\n  <thead>\n    <tr style=\"text-align: right;\">\n      <th></th>\n      <th>name</th>\n      <th>gender</th>\n      <th>age</th>\n      <th>grade</th>\n      <th>absence</th>\n      <th>bloodtype</th>\n      <th>height</th>\n      <th>weight</th>\n    </tr>\n  </thead>\n  <tbody>\n    <tr>\n      <th>4</th>\n      <td>Clara Rodriquez</td>\n      <td>F</td>\n      <td>20</td>\n      <td>1</td>\n      <td>Y</td>\n      <td>A</td>\n      <td>168.0</td>\n      <td>49.5</td>\n    </tr>\n    <tr>\n      <th>7</th>\n      <td>Margareth Jones</td>\n      <td>F</td>\n      <td>23</td>\n      <td>1</td>\n      <td>N</td>\n      <td>A</td>\n      <td>176.9</td>\n      <td>55.0</td>\n    </tr>\n    <tr>\n      <th>12</th>\n      <td>Eddy Johnson</td>\n      <td>M</td>\n      <td>21</td>\n      <td>1</td>\n      <td>N</td>\n      <td>A</td>\n      <td>162.2</td>\n      <td>55.3</td>\n    </tr>\n    <tr>\n      <th>16</th>\n      <td>Andrew Daley</td>\n      <td>M</td>\n      <td>21</td>\n      <td>1</td>\n      <td>N</td>\n      <td>A</td>\n      <td>169.2</td>\n      <td>62.2</td>\n    </tr>\n    <tr>\n      <th>1</th>\n      <td>Sarah O'Donnel</td>\n      <td>F</td>\n      <td>22</td>\n      <td>2</td>\n      <td>N</td>\n      <td>AB</td>\n      <td>170.1</td>\n      <td>53.0</td>\n    </tr>\n    <tr>\n      <th>3</th>\n      <td>David Hassel</td>\n      <td>M</td>\n      <td>23</td>\n      <td>3</td>\n      <td>N</td>\n      <td>AB</td>\n      <td>182.1</td>\n      <td>85.7</td>\n    </tr>\n    <tr>\n      <th>11</th>\n      <td>John Matsuda</td>\n      <td>M</td>\n      <td>22</td>\n      <td>2</td>\n      <td>N</td>\n      <td>AB</td>\n      <td>180.0</td>\n      <td>75.8</td>\n    </tr>\n    <tr>\n      <th>15</th>\n      <td>Richard Swayze</td>\n      <td>M</td>\n      <td>24</td>\n      <td>4</td>\n      <td>Y</td>\n      <td>B</td>\n      <td>168.6</td>\n      <td>70.2</td>\n    </tr>\n    <tr>\n      <th>2</th>\n      <td>Brian Martin</td>\n      <td>M</td>\n      <td>24</td>\n      <td>4</td>\n      <td>N</td>\n      <td>B</td>\n      <td>175.0</td>\n      <td>80.1</td>\n    </tr>\n    <tr>\n      <th>8</th>\n      <td>John Bertsch</td>\n      <td>M</td>\n      <td>23</td>\n      <td>3</td>\n      <td>N</td>\n      <td>B</td>\n      <td>178.5</td>\n      <td>64.2</td>\n    </tr>\n    <tr>\n      <th>9</th>\n      <td>Jake Timmerman</td>\n      <td>M</td>\n      <td>22</td>\n      <td>2</td>\n      <td>N</td>\n      <td>B</td>\n      <td>176.1</td>\n      <td>61.3</td>\n    </tr>\n    <tr>\n      <th>14</th>\n      <td>Linda Carter</td>\n      <td>F</td>\n      <td>22</td>\n      <td>2</td>\n      <td>N</td>\n      <td>B</td>\n      <td>158.2</td>\n      <td>45.2</td>\n    </tr>\n    <tr>\n      <th>0</th>\n      <td>Jared Diamond</td>\n      <td>M</td>\n      <td>23</td>\n      <td>3</td>\n      <td>Y</td>\n      <td>O</td>\n      <td>165.3</td>\n      <td>68.2</td>\n    </tr>\n    <tr>\n      <th>10</th>\n      <td>Joshua Connor</td>\n      <td>M</td>\n      <td>24</td>\n      <td>4</td>\n      <td>Y</td>\n      <td>O</td>\n      <td>167.1</td>\n      <td>62.0</td>\n    </tr>\n    <tr>\n      <th>5</th>\n      <td>Jennifer Lorentz</td>\n      <td>F</td>\n      <td>21</td>\n      <td>2</td>\n      <td>N</td>\n      <td>O</td>\n      <td>162.0</td>\n      <td>52.0</td>\n    </tr>\n    <tr>\n      <th>6</th>\n      <td>Susan Clark</td>\n      <td>F</td>\n      <td>22</td>\n      <td>1</td>\n      <td>N</td>\n      <td>O</td>\n      <td>155.2</td>\n      <td>45.3</td>\n    </tr>\n    <tr>\n      <th>13</th>\n      <td>Rebecah Anderson</td>\n      <td>F</td>\n      <td>23</td>\n      <td>3</td>\n      <td>N</td>\n      <td>O</td>\n      <td>176.1</td>\n      <td>53.1</td>\n    </tr>\n  </tbody>\n</table>\n</div>"
     },
     "metadata": {},
     "execution_count": 103
    }
   ],
   "source": [
    "# SELECT * FROM table ORDER BY bloodtype ASC, absence DESC\n",
    "\n",
    "df.sort_values(by=['bloodtype','absence'], ascending=[True,False]) # 정렬 기준과 순서를 각각 정해줄 수 있음\n",
    "                                                                   # dataframe을 sort할때는 by인자가 필요하다 Series는 필요 X"
   ]
  },
  {
   "cell_type": "code",
   "execution_count": 61,
   "metadata": {},
   "outputs": [
    {
     "output_type": "execute_result",
     "data": {
      "text/plain": "array(['O', 'AB', 'B', 'A'], dtype=object)"
     },
     "metadata": {},
     "execution_count": 61
    }
   ],
   "source": [
    "df.bloodtype.unique()"
   ]
  },
  {
   "cell_type": "code",
   "execution_count": 62,
   "metadata": {},
   "outputs": [
    {
     "output_type": "execute_result",
     "data": {
      "text/plain": "O     5\nB     5\nA     4\nAB    3\nName: bloodtype, dtype: int64"
     },
     "metadata": {},
     "execution_count": 62
    }
   ],
   "source": [
    "df.bloodtype.value_counts()"
   ]
  },
  {
   "cell_type": "code",
   "execution_count": 64,
   "metadata": {},
   "outputs": [
    {
     "output_type": "execute_result",
     "data": {
      "text/plain": "0    B\n1    O\ndtype: object"
     },
     "metadata": {},
     "execution_count": 64
    }
   ],
   "source": [
    "df.bloodtype.mode()  # 최빈값  대표값을 정할때 문자열이니 평균(mean)이 적용이 안된다."
   ]
  },
  {
   "cell_type": "code",
   "execution_count": 74,
   "metadata": {},
   "outputs": [
    {
     "output_type": "execute_result",
     "data": {
      "text/plain": "gender  absence  bloodtype\nF       N        A            1.769000\n                 AB           1.701000\n                 B            1.582000\n                 O            1.644333\n        Y        A            1.680000\nM       N        A            1.657000\n                 AB           1.810500\n                 B            1.765333\n        Y        B            1.686000\n                 O            1.662000\nName: height, dtype: float64"
     },
     "metadata": {},
     "execution_count": 74
    }
   ],
   "source": [
    "df.groupby(['gender','absence','bloodtype']).height.mean()   # Series"
   ]
  },
  {
   "cell_type": "code",
   "execution_count": 101,
   "metadata": {},
   "outputs": [
    {
     "output_type": "execute_result",
     "data": {
      "text/plain": "                     height          \nabsence                   N         Y\ngender bloodtype                     \nF      O          10.660363  0.000000\nM      A           4.949747  0.000000\n       AB          1.484924  0.000000\n       B           1.789786  0.000000\n       O           0.000000  1.272792",
      "text/html": "<div>\n<style scoped>\n    .dataframe tbody tr th:only-of-type {\n        vertical-align: middle;\n    }\n\n    .dataframe tbody tr th {\n        vertical-align: top;\n    }\n\n    .dataframe thead tr th {\n        text-align: left;\n    }\n\n    .dataframe thead tr:last-of-type th {\n        text-align: right;\n    }\n</style>\n<table border=\"1\" class=\"dataframe\">\n  <thead>\n    <tr>\n      <th></th>\n      <th></th>\n      <th colspan=\"2\" halign=\"left\">height</th>\n    </tr>\n    <tr>\n      <th></th>\n      <th>absence</th>\n      <th>N</th>\n      <th>Y</th>\n    </tr>\n    <tr>\n      <th>gender</th>\n      <th>bloodtype</th>\n      <th></th>\n      <th></th>\n    </tr>\n  </thead>\n  <tbody>\n    <tr>\n      <th>F</th>\n      <th>O</th>\n      <td>10.660363</td>\n      <td>0.000000</td>\n    </tr>\n    <tr>\n      <th rowspan=\"4\" valign=\"top\">M</th>\n      <th>A</th>\n      <td>4.949747</td>\n      <td>0.000000</td>\n    </tr>\n    <tr>\n      <th>AB</th>\n      <td>1.484924</td>\n      <td>0.000000</td>\n    </tr>\n    <tr>\n      <th>B</th>\n      <td>1.789786</td>\n      <td>0.000000</td>\n    </tr>\n    <tr>\n      <th>O</th>\n      <td>0.000000</td>\n      <td>1.272792</td>\n    </tr>\n  </tbody>\n</table>\n</div>"
     },
     "metadata": {},
     "execution_count": 101
    }
   ],
   "source": [
    "pd.pivot_table(df, index=['gender','bloodtype'],columns=['absence'], values=['height'], fill_value=0, aggfunc=np.std)  # DataFrame \n",
    "# aggfunc defalut값이 np.mean이라 출력시 평균을 나타내줌\n",
    "# groupby는 columns를 넣을 수 없다.\n",
    "# pivot_table은 group by의 확장버전이라 생각하면 된다."
   ]
  },
  {
   "cell_type": "code",
   "execution_count": 77,
   "metadata": {},
   "outputs": [
    {
     "output_type": "execute_result",
     "data": {
      "text/plain": "     A    B      C  D  E\n0  foo  one  small  1  2\n1  foo  one  large  2  4\n2  foo  one  large  2  5\n3  foo  two  small  3  5\n4  foo  two  small  3  6\n5  bar  one  large  4  6\n6  bar  one  small  5  8\n7  bar  two  small  6  9\n8  bar  two  large  7  9",
      "text/html": "<div>\n<style scoped>\n    .dataframe tbody tr th:only-of-type {\n        vertical-align: middle;\n    }\n\n    .dataframe tbody tr th {\n        vertical-align: top;\n    }\n\n    .dataframe thead th {\n        text-align: right;\n    }\n</style>\n<table border=\"1\" class=\"dataframe\">\n  <thead>\n    <tr style=\"text-align: right;\">\n      <th></th>\n      <th>A</th>\n      <th>B</th>\n      <th>C</th>\n      <th>D</th>\n      <th>E</th>\n    </tr>\n  </thead>\n  <tbody>\n    <tr>\n      <th>0</th>\n      <td>foo</td>\n      <td>one</td>\n      <td>small</td>\n      <td>1</td>\n      <td>2</td>\n    </tr>\n    <tr>\n      <th>1</th>\n      <td>foo</td>\n      <td>one</td>\n      <td>large</td>\n      <td>2</td>\n      <td>4</td>\n    </tr>\n    <tr>\n      <th>2</th>\n      <td>foo</td>\n      <td>one</td>\n      <td>large</td>\n      <td>2</td>\n      <td>5</td>\n    </tr>\n    <tr>\n      <th>3</th>\n      <td>foo</td>\n      <td>two</td>\n      <td>small</td>\n      <td>3</td>\n      <td>5</td>\n    </tr>\n    <tr>\n      <th>4</th>\n      <td>foo</td>\n      <td>two</td>\n      <td>small</td>\n      <td>3</td>\n      <td>6</td>\n    </tr>\n    <tr>\n      <th>5</th>\n      <td>bar</td>\n      <td>one</td>\n      <td>large</td>\n      <td>4</td>\n      <td>6</td>\n    </tr>\n    <tr>\n      <th>6</th>\n      <td>bar</td>\n      <td>one</td>\n      <td>small</td>\n      <td>5</td>\n      <td>8</td>\n    </tr>\n    <tr>\n      <th>7</th>\n      <td>bar</td>\n      <td>two</td>\n      <td>small</td>\n      <td>6</td>\n      <td>9</td>\n    </tr>\n    <tr>\n      <th>8</th>\n      <td>bar</td>\n      <td>two</td>\n      <td>large</td>\n      <td>7</td>\n      <td>9</td>\n    </tr>\n  </tbody>\n</table>\n</div>"
     },
     "metadata": {},
     "execution_count": 77
    }
   ],
   "source": [
    "df = pd.DataFrame({\"A\": [\"foo\", \"foo\", \"foo\", \"foo\", \"foo\",\n",
    "                          \"bar\", \"bar\", \"bar\", \"bar\"],\n",
    "                    \"B\": [\"one\", \"one\", \"one\", \"two\", \"two\",\n",
    "                          \"one\", \"one\", \"two\", \"two\"],\n",
    "                    \"C\": [\"small\", \"large\", \"large\", \"small\",\n",
    "                          \"small\", \"large\", \"small\", \"small\",\n",
    "                          \"large\"],\n",
    "                    \"D\": [1, 2, 2, 3, 3, 4, 5, 6, 7],\n",
    "                    \"E\": [2, 4, 5, 5, 6, 6, 8, 9, 9]})\n",
    "df"
   ]
  },
  {
   "cell_type": "code",
   "execution_count": 78,
   "metadata": {},
   "outputs": [
    {
     "output_type": "execute_result",
     "data": {
      "text/plain": "C        large  small\nA   B                \nbar one    6.0    8.0\n    two    9.0    9.0\nfoo one    4.5    2.0\n    two    NaN    5.5",
      "text/html": "<div>\n<style scoped>\n    .dataframe tbody tr th:only-of-type {\n        vertical-align: middle;\n    }\n\n    .dataframe tbody tr th {\n        vertical-align: top;\n    }\n\n    .dataframe thead th {\n        text-align: right;\n    }\n</style>\n<table border=\"1\" class=\"dataframe\">\n  <thead>\n    <tr style=\"text-align: right;\">\n      <th></th>\n      <th>C</th>\n      <th>large</th>\n      <th>small</th>\n    </tr>\n    <tr>\n      <th>A</th>\n      <th>B</th>\n      <th></th>\n      <th></th>\n    </tr>\n  </thead>\n  <tbody>\n    <tr>\n      <th rowspan=\"2\" valign=\"top\">bar</th>\n      <th>one</th>\n      <td>6.0</td>\n      <td>8.0</td>\n    </tr>\n    <tr>\n      <th>two</th>\n      <td>9.0</td>\n      <td>9.0</td>\n    </tr>\n    <tr>\n      <th rowspan=\"2\" valign=\"top\">foo</th>\n      <th>one</th>\n      <td>4.5</td>\n      <td>2.0</td>\n    </tr>\n    <tr>\n      <th>two</th>\n      <td>NaN</td>\n      <td>5.5</td>\n    </tr>\n  </tbody>\n</table>\n</div>"
     },
     "metadata": {},
     "execution_count": 78
    }
   ],
   "source": [
    "# A,B의 값으로 인덱스, C의 값으로 컬럼, 실제 셀에 들어가는 값은 E의 평균.\n",
    "pd.pivot_table(df, index=['A','B'], columns='C', values='E')      "
   ]
  }
 ],
 "metadata": {
  "language_info": {
   "codemirror_mode": {
    "name": "ipython",
    "version": 3
   },
   "file_extension": ".py",
   "mimetype": "text/x-python",
   "name": "python",
   "nbconvert_exporter": "python",
   "pygments_lexer": "ipython3",
   "version": "3.7.6-final"
  },
  "orig_nbformat": 2,
  "kernelspec": {
   "name": "python3",
   "display_name": "Python 3"
  }
 },
 "nbformat": 4,
 "nbformat_minor": 2
}