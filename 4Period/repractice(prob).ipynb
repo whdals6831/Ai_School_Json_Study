{
 "cells": [
  {
   "cell_type": "markdown",
   "metadata": {},
   "source": [
    "1. \\['abbbbba', 'cddb', 'aerb', 'aeeeb', 'almnj']\n",
    "(모두 문자열)일 때 1, 3번째만 True를 리턴하는 정규표현식을 작성하시오"
   ]
  },
  {
   "cell_type": "code",
   "execution_count": 1,
   "metadata": {
    "tags": []
   },
   "outputs": [
    {
     "output_type": "stream",
     "name": "stdout",
     "text": "<re.Match object; span=(0, 4), match='abbb'>\nNone\n<re.Match object; span=(0, 4), match='aerb'>\nNone\nNone\n"
    }
   ],
   "source": [
    "import re\n",
    "\n",
    "a = ['abbbbba', 'cddb', 'aerb', 'aeeeb', 'almnj']\n",
    "p = re.compile('a.{2}b')\n",
    "\n",
    "for i in a :\n",
    "    print(p.match(i))"
   ]
  },
  {
   "cell_type": "markdown",
   "metadata": {},
   "source": [
    "2. \\['abcd efghopqr-stuv', 'abcd-efgh', 'abc defghijk', 'ab cdhijk'] 일 때 1, 3, 4번째만 match되도록 정규표현식을 작성하시오."
   ]
  },
  {
   "cell_type": "code",
   "execution_count": 10,
   "metadata": {
    "tags": []
   },
   "outputs": [
    {
     "output_type": "stream",
     "name": "stdout",
     "text": "<re.Match object; span=(0, 18), match='abcd efghopqr-stuv'>\nNone\n<re.Match object; span=(0, 12), match='abc defghijk'>\n<re.Match object; span=(0, 9), match='ab cdhijk'>\n"
    }
   ],
   "source": [
    "\n",
    "import re\n",
    "\n",
    "a = ['abcd efghopqr-stuv', 'abcd-efgh', 'abc defghijk', 'ab cdhijk']\n",
    "p = re.compile(r'a.{,3}\\s.+')\n",
    "\n",
    "for i in a :\n",
    "    print(p.match(i))"
   ]
  },
  {
   "cell_type": "markdown",
   "metadata": {},
   "source": [
    "3. 그룹을 사용해서 \\['코끼리는 코끼리', '강아지는 강아지', '고양이는 고양이'] 모두에게 True를 리턴하는 정규표현식을 작성하고, 주어들을 순서대로 출력하세요."
   ]
  },
  {
   "cell_type": "code",
   "execution_count": 22,
   "metadata": {
    "tags": []
   },
   "outputs": [
    {
     "output_type": "stream",
     "name": "stdout",
     "text": "<re.Match object; span=(0, 8), match='코끼리는 코끼리'>\n코끼리\n<re.Match object; span=(0, 8), match='강아지는 강아지'>\n강아지\n<re.Match object; span=(0, 8), match='고양이는 고양이'>\n고양이\n"
    }
   ],
   "source": [
    "import re\n",
    "\n",
    "a = ['코끼리는 코끼리', '강아지는 강아지', '고양이는 고양이']\n",
    "p = re.compile(r'(?P<name>.+)는\\s\\1') \n",
    "# \\1은 앞의 그룹을 재참조\n",
    "\n",
    "for i in a :  \n",
    "    matched = p.match(i)\n",
    "    print(matched)\n",
    "    print(matched.group(1))"
   ]
  },
  {
   "cell_type": "markdown",
   "metadata": {},
   "source": [
    "4. \\['김준태 - 학점 2.0', '이재화 - 학점 3.0', '최주원 - 학점 4.0']에서 학점을 모두 4.5로 바꿔주세요!"
   ]
  },
  {
   "cell_type": "code",
   "execution_count": 32,
   "metadata": {
    "tags": []
   },
   "outputs": [
    {
     "output_type": "stream",
     "name": "stdout",
     "text": "김준태 - 학점 4.5\n이재화 - 학점 4.5\n최주원 - 학점 4.5\n"
    }
   ],
   "source": [
    "import re\n",
    "\n",
    "a = ['김준태 - 학점 2.0', '이재화 - 학점 3.0', '최주원 - 학점 4.0']\n",
    "p = re.compile(r'(?P<name>\\w+)\\s.\\s(?P<grade>\\w+)\\s.+')\n",
    "# p = re.compile(r'(?P<rest>.+\\s.\\s).+')  # 강사님 답\n",
    "\n",
    "for i in a :\n",
    "    print(p.sub('\\g<name> - \\g<grade> 4.5', i))\n",
    "    # print(p.sub('\\g<rest> 학점 4.5', i))"
   ]
  },
  {
   "cell_type": "markdown",
   "metadata": {},
   "source": [
    "5. <div id=\"u_skip\"> <a href=\"#newsstand\"><span>뉴스스탠드 바로가기</span></a> <a href=\"#themecast\"><span>주제별캐스트 바로가기</span></a> <a href=\"#timesquare\"><span>타임스퀘어 바로가기</span></a> <a href=\"#shopcast\"><span>쇼핑캐스트 바로가기</span></a> <a href=\"#account\"><span>로그인 바로가기</span></a> </div> 에서 사용된 모든 태그(<>)를 출력하세요. "
   ]
  },
  {
   "cell_type": "code",
   "execution_count": 2,
   "metadata": {
    "tags": []
   },
   "outputs": [
    {
     "output_type": "stream",
     "name": "stdout",
     "text": "['<div id=\"u_skip\">', '<a href=\"#newsstand\">', '<span>', '</span>', '</a>', '<a href=\"#themecast\">', '<span>', '</span>', '</a>', '<a href=\"#timesquare\">', '<span>', '</span>', '</a>', '<a href=\"#shopcast\">', '<span>', '</span>', '</a>', '<a href=\"#account\">', '<span>', '</span>', '</a>', '</div>']\n"
    }
   ],
   "source": [
    "import re\n",
    "\n",
    "a = '<div id=\"u_skip\"> <a href=\"#newsstand\"><span>뉴스스탠드 바로가기</span></a> <a href=\"#themecast\"><span>주제별캐스트 바로가기</span></a> <a href=\"#timesquare\"><span>타임스퀘어 바로가기</span></a> <a href=\"#shopcast\"><span>쇼핑캐스트 바로가기</span></a> <a href=\"#account\"><span>로그인 바로가기</span></a> </div>'\n",
    "\n",
    "p = re.compile(r'<.*?>')\n",
    "\n",
    "\n",
    "print(p.findall(a))\n"
   ]
  },
  {
   "cell_type": "markdown",
   "metadata": {},
   "source": [
    "6. '1100+1200+1300+1800=5400' 이라는 문장에서 등호표시 전의 숫자만 8진법으로 변경하세요."
   ]
  },
  {
   "cell_type": "code",
   "execution_count": 15,
   "metadata": {
    "tags": []
   },
   "outputs": [
    {
     "output_type": "stream",
     "name": "stdout",
     "text": "0o2114+0o2260+0o2424+0o3410=5400\n"
    }
   ],
   "source": [
    "import re\n",
    "a = '1100+1200+1300+1800=5400'\n",
    "p = re.compile(r'1\\d{3}')\n",
    "\n",
    "def octa(match) :\n",
    "    o = oct(int(match.group()))\n",
    "    return o\n",
    "\n",
    "print(p.sub(subdef, a))"
   ]
  },
  {
   "cell_type": "markdown",
   "metadata": {},
   "source": [
    "7. \\['https://naver.com', 'https://korea.ac.kr', 'https://www.google.com', 'google.com', 'https://facebook.com', 'naver.com'] 에서 https로 시작하고, www.이 없고, 마지막이 .com으로 끝나는 주소만 True를 리턴하는 정규표현식을 작성하세요."
   ]
  },
  {
   "cell_type": "code",
   "execution_count": 4,
   "metadata": {
    "tags": []
   },
   "outputs": [
    {
     "output_type": "stream",
     "name": "stdout",
     "text": "<re.Match object; span=(0, 17), match='https://naver.com'>\nNone\nNone\nNone\n<re.Match object; span=(0, 20), match='https://facebook.com'>\nNone\n"
    }
   ],
   "source": [
    "import re\n",
    "\n",
    "a = ['https://naver.com', 'https://korea.ac.kr', 'https://www.google.com', 'google.com', 'https://facebook.com', 'naver.com']\n",
    "\n",
    "p = re.compile(r'^https://[^w]+.com$')\n",
    "\n",
    "for i in a :\n",
    "    matched = p.match(i)\n",
    "    print(matched)"
   ]
  },
  {
   "cell_type": "markdown",
   "metadata": {},
   "source": [
    "8. a = '''mike 010-1234-0907 mikeman@naver.com hi! my name is mike!\n",
    "jay 010-1112-3456 jayman@naver.com hi! my name is jay!\n",
    "yohan 010-2223-5874 yohanman@naver.com hi! my name is yohan!'''\n",
    "위 문장에서 순서 배치를 전화번호, 이메일, 자기소개, 이름 순서로 변경하시오."
   ]
  },
  {
   "cell_type": "code",
   "execution_count": 11,
   "metadata": {
    "tags": []
   },
   "outputs": [
    {
     "output_type": "stream",
     "name": "stdout",
     "text": "[('mike', '010-1234-0907', 'mikeman@naver.com', 'hi! my name is mike!'), ('jay', '010-1112-3456', 'jayman@naver.com', 'hi! my name is jay!'), ('yohan', '010-2223-5874', 'yohanman@naver.com', 'hi! my name is yohan!')]\n"
    },
    {
     "output_type": "execute_result",
     "data": {
      "text/plain": "'010-1234-0907 mikeman@naver.com hi! my name is mike! mike \\n010-1112-3456 jayman@naver.com hi! my name is jay! jay \\n010-2223-5874 yohanman@naver.com hi! my name is yohan! yohan '"
     },
     "metadata": {},
     "execution_count": 11
    }
   ],
   "source": [
    "import re\n",
    "\n",
    "a = '''mike 010-1234-0907 mikeman@naver.com hi! my name is mike!\n",
    "jay 010-1112-3456 jayman@naver.com hi! my name is jay!\n",
    "yohan 010-2223-5874 yohanman@naver.com hi! my name is yohan!'''\n",
    "\n",
    "p = re.compile(r'(?P<name>.+)\\s(?P<phone>\\d+.\\d+.\\d+)\\s(?P<mail>.+.com)\\s(?P<intro>.+\\1!)') # !앞의 \\1은 P<name>을 의미\n",
    "\n",
    "matched = p.findall(a)\n",
    "\n",
    "print(matched)\n",
    "\n",
    "p.sub('\\g<phone> \\g<mail> \\g<intro> \\g<name> ', a)\n"
   ]
  }
 ],
 "metadata": {
  "language_info": {
   "codemirror_mode": {
    "name": "ipython",
    "version": 3
   },
   "file_extension": ".py",
   "mimetype": "text/x-python",
   "name": "python",
   "nbconvert_exporter": "python",
   "pygments_lexer": "ipython3",
   "version": "3.7.6-final"
  },
  "orig_nbformat": 2,
  "kernelspec": {
   "name": "python3",
   "display_name": "Python 3"
  }
 },
 "nbformat": 4,
 "nbformat_minor": 2
}