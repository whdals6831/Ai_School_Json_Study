{
 "cells": [
  {
   "cell_type": "markdown",
   "metadata": {},
   "source": [
    "## 0.0 파이썬 모듈 불러들이기"
   ]
  },
  {
   "cell_type": "code",
   "execution_count": 1,
   "metadata": {},
   "outputs": [],
   "source": [
    "import numpy as np\n",
    "import csv\n",
    "import time\n",
    "\n",
    "np.random.seed(1234)\n",
    "def randomize(): np.random.seed(time.time())"
   ]
  },
  {
   "cell_type": "markdown",
   "metadata": {},
   "source": [
    "## 0.1 하이퍼 파라미터 정의"
   ]
  },
  {
   "cell_type": "code",
   "execution_count": 2,
   "metadata": {},
   "outputs": [],
   "source": [
    "RND_MEAN = 0\n",
    "RND_STD = 0.0030\n",
    "\n",
    "LEARNING_RATE = 0.001  # 학습률"
   ]
  },
  {
   "cell_type": "markdown",
   "metadata": {},
   "source": [
    "## A.1 실험용 메인함수"
   ]
  },
  {
   "cell_type": "code",
   "execution_count": 3,
   "metadata": {},
   "outputs": [],
   "source": [
    "def abalone_exec(epoch_count = 10, mb_size = 10, report = 1):\n",
    "    load_abalone_dataset()  # 데이터 불러들이는 함수\n",
    "    init_model()  # 모델 초기화 함수\n",
    "    train_and_test(epoch_count, mb_size, report)   # 학습 및 테스트 수행 함수"
   ]
  },
  {
   "cell_type": "markdown",
   "metadata": {},
   "source": [
    "## B.1 데이터 적재함수 정의 "
   ]
  },
  {
   "cell_type": "code",
   "execution_count": 4,
   "metadata": {},
   "outputs": [],
   "source": [
    "def load_abalone_dataset():\n",
    "    with open('./data/abalone.csv') as csvfile:\n",
    "        csvreader = csv.reader(csvfile)\n",
    "        next(csvreader, None)   # 컬럼명을 건너 뛰어줌\n",
    "        rows = []\n",
    "        for row in csvreader:\n",
    "            rows.append(row)\n",
    "            \n",
    "    global data, input_cnt, output_cnt  # cnt는 count\n",
    "    input_cnt, output_cnt = 10, 1\n",
    "    data = np.zeros([len(rows), input_cnt+output_cnt])\n",
    "\n",
    "    for n, row in enumerate(rows):\n",
    "        # 원-핫 벡터 처리\n",
    "        if row[0] == 'I': data[n, 0] = 1\n",
    "        if row[0] == 'M': data[n, 1] = 1\n",
    "        if row[0] == 'F': data[n, 2] = 1\n",
    "        data[n, 3:] = row[1:]  # 성별을 지정해준 후 뒤의 나머지 정보를 붙혀줌"
   ]
  },
  {
   "cell_type": "markdown",
   "metadata": {},
   "source": [
    "## B.2 파라미터 초기화 함수 정의 "
   ]
  },
  {
   "cell_type": "code",
   "execution_count": 5,
   "metadata": {},
   "outputs": [],
   "source": [
    "def init_model():\n",
    "    global weight, bias, input_cnt, output_cnt\n",
    "    weight = np.random.normal(RND_MEAN, RND_STD,[input_cnt, output_cnt])\n",
    "    # np.random.normal은 정규분포를 갖는 난수 생성\n",
    "    # seed를 지정해주면 random의 난수가 전에 실행시켰던 값과 동일한 패턴으로      \n",
    "    # 출력 됨 -> 각 미니배치를 학습할 때 동일한 weight 난수로 시작 가능\n",
    "    bias = np.zeros([output_cnt])"
   ]
  },
  {
   "cell_type": "markdown",
   "metadata": {},
   "source": [
    "## B.3 학습 및 평가 함수 정의"
   ]
  },
  {
   "cell_type": "code",
   "execution_count": 6,
   "metadata": {},
   "outputs": [],
   "source": [
    "def train_and_test(epoch_count, mb_size, report):\n",
    "    step_count = arrange_data(mb_size) # 몇개의 미니배치를 만들지 \n",
    "    test_x, test_y = get_test_data()\n",
    "    \n",
    "    for epoch in range(epoch_count):\n",
    "        losses, accs = [], []\n",
    "        \n",
    "        for n in range(step_count):\n",
    "            train_x, train_y = get_train_data(mb_size, n)\n",
    "            loss, acc = run_train(train_x, train_y)\n",
    "            losses.append(loss)\n",
    "            accs.append(acc)\n",
    "            \n",
    "        if report > 0 and (epoch+1) % report == 0:\n",
    "            acc = run_test(test_x, test_y)\n",
    "            print('Epoch {}: loss={:5.3f}, accuracy={:5.3f}/{:5.3f}'. \\\n",
    "                  format(epoch+1, np.mean(losses), np.mean(accs), acc))\n",
    "            \n",
    "    final_acc = run_test(test_x, test_y)\n",
    "    print('\\nFinal Test: final accuracy = {:5.3f}'.format(final_acc))"
   ]
  },
  {
   "cell_type": "markdown",
   "metadata": {},
   "source": [
    "## C.1~3 학습 및 평가 데이터 획득 함수 정의"
   ]
  },
  {
   "cell_type": "code",
   "execution_count": 7,
   "metadata": {},
   "outputs": [],
   "source": [
    "def arrange_data(mb_size):\n",
    "    global data, shuffle_map, test_begin_idx\n",
    "    shuffle_map = np.arange(data.shape[0]) # row 수만큼 index배열 생성 ex [0,1,2,3, ...]\n",
    "\n",
    "    np.random.shuffle(shuffle_map) # index shuffle\n",
    "    # 학습할 데이터 row수를 미니배치 사이즈로 나눠서 \n",
    "\n",
    "    # 1 에폭당 미니배치 횟수 출력\n",
    "    step_count = int(data.shape[0] * 0.8) // mb_size \n",
    "    \n",
    "    # train data와 test data로 나눌 경계 지정\n",
    "    test_begin_idx = step_count * mb_size \n",
    "    return step_count\n",
    "\n",
    "\n",
    "\n",
    "def get_test_data():\n",
    "    global data, shuffle_map, test_begin_idx, output_cnt\n",
    "\n",
    "    # test_begin_idx부터 shuffle된 index의 값들을 data에서 가져와 test_data로 지정\n",
    "    test_data = data[shuffle_map[test_begin_idx:]] \n",
    "\n",
    "    # test_data를 입력(독립) data와 출력(종속) data로 나눠서 반환\n",
    "    return test_data[:, :-output_cnt], test_data[:, -output_cnt:] \n",
    "\n",
    "\n",
    "\n",
    "def get_train_data(mb_size, nth):\n",
    "    global data, shuffle_map, test_begin_idx, output_cnt\n",
    "\n",
    "    if nth == 0: # 첫 에폭마다 한하여, 처음부터 경계선까지 인덱스 shuffle\n",
    "        np.random.shuffle(shuffle_map[:test_begin_idx])\n",
    "\n",
    "    # 섞인 인덱스로 미니배치 크기에 맞게 데이터 분할 및 train_data로 저장\n",
    "    train_data = data[shuffle_map[mb_size*nth:mb_size*(nth+1)]]\n",
    "    return train_data[:, :-output_cnt], train_data[:, -output_cnt:]"
   ]
  },
  {
   "cell_type": "markdown",
   "metadata": {},
   "source": [
    "## C.4~5 학습 실행 함수와 평가 실행함수 정의"
   ]
  },
  {
   "cell_type": "code",
   "execution_count": 8,
   "metadata": {},
   "outputs": [],
   "source": [
    "def run_train(x, y):\n",
    "    # 신경망 연산 부분 (보조정보 : 입력벡터 x)\n",
    "    output, aux_nn = forward_neuralnet(x)\n",
    "\n",
    "    # 신경망 후처리 과정(손실함수 구하는 과정) (보조정보 : 편차 diff = output - y)\n",
    "    loss, aux_pp = forward_postproc(output, y)\n",
    "\n",
    "    # 정확도를 구하는 과정\n",
    "    accuracy = eval_accuracy(output, y)\n",
    "    \n",
    "\n",
    "    # 역전파 과정\n",
    "\n",
    "    # 항상 순전파의 역순으로 수행\n",
    "    G_loss = 1.0  # 순전파 때 출력이었던 성분의 '손실함수의 기울기' aL/aL\n",
    "\n",
    "    # 손실함수의 처리과정인 '평균제곱오차'의 역순, 즉 'MSE의 역전파 처리' aL/aY\n",
    "    G_output = backprop_postproc(G_loss, aux_pp)\n",
    "\n",
    "    # 직접적인 학습이 이뤄지는 부분(가중치와 편향이 학습률을 활용하며 실제 학습 과정 수행)\n",
    "    # 입력값에 따른 f(x)에 대한 편미분 과정을 구해주는 내부처리 af(x)/ax\n",
    "    backprop_neuralnet(G_output, aux_nn)\n",
    "    \n",
    "    return loss, accuracy\n",
    "\n",
    "def run_test(x, y):\n",
    "    output, _ = forward_neuralnet(x)\n",
    "    accuracy = eval_accuracy(output, y)\n",
    "    return accuracy"
   ]
  },
  {
   "cell_type": "markdown",
   "metadata": {},
   "source": [
    "## D.1 / E.1 단층 퍼셉트론에 대한 순전파 및 역전파 함수 정의"
   ]
  },
  {
   "cell_type": "code",
   "execution_count": 9,
   "metadata": {},
   "outputs": [],
   "source": [
    "def forward_neuralnet(x):\n",
    "    global weight, bias\n",
    "    # np.matmul은 x의 각 원소에 weight를 곱해줌 \n",
    "    # 편향이 더해진 입력벡터와 가중치 벡터에 대한 기본적인 신경망 연산식\n",
    "    output = np.matmul(x, weight) + bias\n",
    "    return output, x\n",
    "\n",
    "def backprop_neuralnet(G_output, x):\n",
    "    global weight, bias\n",
    "    # transpose 행과 열을 바꾸는 전치행렬\n",
    "    g_output_w = x.transpose()\n",
    "    \n",
    "    G_w = np.matmul(g_output_w, G_output)\n",
    "    G_b = np.sum(G_output, axis=0)\n",
    "\n",
    "    weight -= LEARNING_RATE * G_w\n",
    "    bias -= LEARNING_RATE * G_b"
   ]
  },
  {
   "cell_type": "markdown",
   "metadata": {},
   "source": [
    "## D.2 / E.2 후처리 과정에 대한 순전파 및 역전파 함수 정의"
   ]
  },
  {
   "cell_type": "code",
   "execution_count": 10,
   "metadata": {},
   "outputs": [],
   "source": [
    "def forward_postproc(output, y):\n",
    "    diff = output - y # 편차\n",
    "    square = np.square(diff) # 제곱\n",
    "    loss = np.mean(square) # 평균\n",
    "    return loss, diff\n",
    "\n",
    "def backprop_postproc(G_loss, diff):\n",
    "    shape = diff.shape\n",
    "    \n",
    "    g_loss_square = np.ones(shape) / np.prod(shape)\n",
    "    g_square_diff = 2 * diff\n",
    "    g_diff_output = 1\n",
    "\n",
    "    G_square = g_loss_square * G_loss\n",
    "    G_diff = g_square_diff * G_square\n",
    "    G_output = g_diff_output * G_diff\n",
    "    \n",
    "    return G_output"
   ]
  },
  {
   "cell_type": "markdown",
   "metadata": {},
   "source": [
    "## D.3 정확도 계산 함수 정의  "
   ]
  },
  {
   "cell_type": "code",
   "execution_count": 11,
   "metadata": {},
   "outputs": [],
   "source": [
    "def eval_accuracy(output, y):\n",
    "    mdiff = np.mean(np.abs((output - y)/y)) # abs는 절대값\n",
    "    return 1 - mdiff"
   ]
  },
  {
   "cell_type": "markdown",
   "metadata": {},
   "source": [
    "## 단층퍼셉트론 메인 함수 실행"
   ]
  },
  {
   "cell_type": "code",
   "execution_count": 12,
   "metadata": {
    "tags": []
   },
   "outputs": [
    {
     "output_type": "stream",
     "name": "stdout",
     "text": "Epoch 1: loss=33.875, accuracy=0.557/0.812\nEpoch 2: loss=8.226, accuracy=0.820/0.814\nEpoch 3: loss=7.582, accuracy=0.812/0.809\nEpoch 4: loss=7.475, accuracy=0.808/0.811\nEpoch 5: loss=7.395, accuracy=0.810/0.809\nEpoch 6: loss=7.328, accuracy=0.808/0.810\nEpoch 7: loss=7.269, accuracy=0.808/0.811\nEpoch 8: loss=7.217, accuracy=0.808/0.812\nEpoch 9: loss=7.175, accuracy=0.810/0.810\nEpoch 10: loss=7.135, accuracy=0.809/0.810\n\nFinal Test: final accuracy = 0.810\n"
    }
   ],
   "source": [
    "abalone_exec()"
   ]
  },
  {
   "cell_type": "markdown",
   "metadata": {},
   "source": [
    "## 파라미터 확인"
   ]
  },
  {
   "cell_type": "code",
   "execution_count": 13,
   "metadata": {
    "tags": []
   },
   "outputs": [
    {
     "output_type": "stream",
     "name": "stdout",
     "text": "[[1.02697603]\n [1.47450981]\n [1.66960135]\n [2.04468668]\n [1.62513525]\n [0.60292627]\n [2.39993815]\n [0.54107313]\n [0.46878034]\n [1.01969382]]\n[4.16894769]\n"
    }
   ],
   "source": [
    "print(weight) # 가중치가 이렇게 나왔는데 이 속에서 패턴을 찾기란 아주 힘든일이다.\n",
    "# 그리고 값이 크다고 중요한 입력이 아니고 값이 작다고 필요없는 값이 아니다. \n",
    "# 가중치는 계속해서 변한다.\n",
    "print(bias)"
   ]
  },
  {
   "cell_type": "markdown",
   "metadata": {},
   "source": [
    "## 새로운 입력 벡터 X에 대한 예측"
   ]
  },
  {
   "cell_type": "code",
   "execution_count": 14,
   "metadata": {
    "tags": []
   },
   "outputs": [
    {
     "output_type": "stream",
     "name": "stdout",
     "text": "(array([8.65881481]), array([0.  , 1.  , 0.  , 0.44, 0.3 , 0.08, 0.5 , 0.23, 0.11, 0.2 ]))\n"
    }
   ],
   "source": [
    "x = np.array([0,1,0,0.44,0.3,0.08,0.5,0.23,0.11,0.2])\n",
    "output = forward_neuralnet(x)\n",
    "print(output)"
   ]
  },
  {
   "cell_type": "markdown",
   "metadata": {},
   "source": [
    "## 하이퍼퍼라미터 수정하며 실험\n",
    "\n",
    "* LEARNING_RATE = 0.001 -> 0.1\n",
    "* epoch_count = 10 -> 100\n",
    "* mb_size = 10 -> 100"
   ]
  },
  {
   "cell_type": "code",
   "execution_count": 26,
   "metadata": {
    "tags": []
   },
   "outputs": [
    {
     "output_type": "stream",
     "name": "stdout",
     "text": "Epoch 20: loss=5.570, accuracy=0.826/0.823\nEpoch 40: loss=5.069, accuracy=0.834/0.835\nEpoch 60: loss=4.865, accuracy=0.838/0.833\nEpoch 80: loss=4.819, accuracy=0.839/0.833\nEpoch 100: loss=4.763, accuracy=0.839/0.836\n\nFinal Test: final accuracy = 0.836\n"
    }
   ],
   "source": [
    "LEARNING_RATE = 0.1\n",
    "abalone_exec(epoch_count=100,mb_size=100,report=20)\n",
    "# 이렇게 출력결과를 쭉 보면서 정확도가 좋은 부분의 하이퍼 파라미터를 가져오면 \n",
    "# 정확도를 좋게 만들 수 있다."
   ]
  },
  {
   "cell_type": "code",
   "execution_count": null,
   "metadata": {},
   "outputs": [],
   "source": []
  }
 ],
 "metadata": {
  "kernelspec": {
   "display_name": "Python 3",
   "language": "python",
   "name": "python3"
  },
  "language_info": {
   "codemirror_mode": {
    "name": "ipython",
    "version": 3
   },
   "file_extension": ".py",
   "mimetype": "text/x-python",
   "name": "python",
   "nbconvert_exporter": "python",
   "pygments_lexer": "ipython3",
   "version": "3.6.7"
  }
 },
 "nbformat": 4,
 "nbformat_minor": 2
}