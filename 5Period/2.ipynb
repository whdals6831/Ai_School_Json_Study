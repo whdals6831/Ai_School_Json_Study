{
 "cells": [
  {
   "cell_type": "code",
   "execution_count": 6,
   "metadata": {
    "tags": []
   },
   "outputs": [
    {
     "output_type": "stream",
     "name": "stdout",
     "text": "예측 데이터 :  [[0, 0], [0, 1], [1, 0], [1, 1]]\n예측 결과 :  [0 1 1 0]\n정답률 :  1.0\n"
    }
   ],
   "source": [
    "from sklearn import svm\n",
    "\n",
    "# XOR의 계산 결과 데이터\n",
    "\n",
    "xor_input = [\n",
    "    #p, q, r\n",
    "    [0, 0, 0],\n",
    "    [0, 1, 1],\n",
    "    [1, 0, 1],\n",
    "    [1, 1, 0]\n",
    "]\n",
    "\n",
    "# 학습을 위해 데이터와 레이블 분리하기 --- (1)\n",
    "xor_data = []\n",
    "xor_label = []\n",
    "\n",
    "for row in xor_input:\n",
    "    p = row[0]\n",
    "    q = row[1]\n",
    "    r = row[2]\n",
    "    xor_data.append( [p, q] )\n",
    "    xor_label.append(r)\n",
    "\n",
    "# 데이터 학습시키기 --- (2)\n",
    "model = svm.SVC()\n",
    "model.fit(xor_data, xor_label)\n",
    "\n",
    "# 데이터 예측하기 --- (3)\n",
    "pre = model.predict(xor_data)\n",
    "print(\"예측 데이터 : \", xor_data)\n",
    "print(\"예측 결과 : \", pre)\n",
    "\n",
    "# 결과 확인하기 --- (4)\n",
    "ok = 0; total = 0\n",
    "\n",
    "for idx, answer in enumerate(xor_label) :\n",
    "    p = pre[idx]\n",
    "    if p == answer :\n",
    "        ok += 1\n",
    "    total += 1\n",
    "\n",
    "print('정답률 : ', ok/total)"
   ]
  },
  {
   "cell_type": "code",
   "execution_count": 11,
   "metadata": {
    "tags": []
   },
   "outputs": [
    {
     "output_type": "stream",
     "name": "stdout",
     "text": "정답률 :  1.0\n"
    }
   ],
   "source": [
    "# pandas 라이브러리를 사용하여 코드 간략화\n",
    "import pandas as pd \n",
    "from sklearn import svm, metrics\n",
    "from sklearn.neighbors import KNeighborsClassifier\n",
    "\n",
    "# XOR 연산\n",
    "xor_input = [\n",
    "    #p, q, r\n",
    "    [0, 0, 0],\n",
    "    [0, 1, 1],\n",
    "    [1, 0, 1],\n",
    "    [1, 1, 0]\n",
    "]\n",
    "\n",
    "# 입력을 학습 전용 데이터와 결과 데이터로 분류하기 --- (1)\n",
    "xor_df = pd.DataFrame(xor_input)\n",
    "xor_data = xor_df[ [0, 1] ]\n",
    "xor_label = xor_df[2]\n",
    "\n",
    "# 데이터 학습과 예측하기 --- (2)\n",
    "# model = svm.SVC()\n",
    "model = KNeighborsClassifier(n_neighbors = 1)  \n",
    "model.fit(xor_data, xor_label)\n",
    "pre = model.predict(xor_data)\n",
    "\n",
    "# 정답률 구하기 --- (3)\n",
    "ac_score = metrics.accuracy_score(xor_label, pre)\n",
    "print(\"정답률 : \",ac_score)"
   ]
  },
  {
   "cell_type": "code",
   "execution_count": 13,
   "metadata": {
    "tags": []
   },
   "outputs": [
    {
     "output_type": "stream",
     "name": "stdout",
     "text": "0\n"
    }
   ],
   "source": [
    "import pickle\n",
    "\n",
    "with open('./xor_model.pkl', 'wb') as f: # 학습한 모델 저장\n",
    "    pickle.dump(model, f)\n",
    "\n",
    "with open('xor_model.pkl', 'rb') as f: # 학습한 모델 불러오기\n",
    "    model = pickle.load(f) \n",
    "\n",
    "# 문제\n",
    "x_test = [\n",
    "    [1, 1]\n",
    "]\n",
    "\n",
    "# 모델 예측\n",
    "y_predict = model.predict(x_test)\n",
    "print(y_predict[0]) \n"
   ]
  },
  {
   "cell_type": "code",
   "execution_count": 16,
   "metadata": {
    "tags": []
   },
   "outputs": [
    {
     "output_type": "stream",
     "name": "stdout",
     "text": "0\n"
    }
   ],
   "source": [
    "from sklearn.externals import joblib\n",
    "\n",
    "joblib.dump(model, 'xor_model_2.pkl')  # 학습한 모델 저장하는 다른 방법\n",
    "model = joblib.load('xor_model_2.pkl')  # 학습한 모델 불러오는 다른 방법\n",
    "\n",
    "# 문제\n",
    "x_test = [\n",
    "    [1, 1]\n",
    "]\n",
    "\n",
    "# 모델 예측\n",
    "y_predict = model.predict(x_test)\n",
    "print(y_predict[0]) "
   ]
  },
  {
   "cell_type": "code",
   "execution_count": 18,
   "metadata": {
    "tags": []
   },
   "outputs": [
    {
     "output_type": "stream",
     "name": "stdout",
     "text": "정답률 :  1.0\n"
    }
   ],
   "source": [
    "# pandas 라이브러리를 사용하여 코드 간략화\n",
    "import pandas as pd \n",
    "from sklearn import svm, metrics\n",
    "from sklearn.neighbors import KNeighborsClassifier\n",
    "\n",
    "# AND 연산\n",
    "and_input = [\n",
    "    #p, q, r\n",
    "    [0, 0, 0],\n",
    "    [0, 1, 0],\n",
    "    [1, 0, 0],\n",
    "    [1, 1, 1]\n",
    "]\n",
    "\n",
    "# 입력을 학습 전용 데이터와 결과 데이터로 분류하기 --- (1)\n",
    "and_df = pd.DataFrame(and_input)\n",
    "and_data = and_df[ [0, 1] ]\n",
    "and_label = and_df[2]\n",
    "\n",
    "# 데이터 학습과 예측하기 --- (2)\n",
    "# model = svm.SVC()\n",
    "model = KNeighborsClassifier(n_neighbors = 1)  \n",
    "model.fit(and_data, and_label)\n",
    "pre = model.predict(and_data)\n",
    "\n",
    "# 정답률 구하기 --- (3)\n",
    "ac_score = metrics.accuracy_score(and_label, pre)\n",
    "print(\"정답률 : \",ac_score)"
   ]
  }
 ],
 "metadata": {
  "language_info": {
   "codemirror_mode": {
    "name": "ipython",
    "version": 3
   },
   "file_extension": ".py",
   "mimetype": "text/x-python",
   "name": "python",
   "nbconvert_exporter": "python",
   "pygments_lexer": "ipython3",
   "version": "3.7.6-final"
  },
  "orig_nbformat": 2,
  "kernelspec": {
   "name": "python3",
   "display_name": "Python 3"
  }
 },
 "nbformat": 4,
 "nbformat_minor": 2
}