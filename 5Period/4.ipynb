{
 "cells": [
  {
   "cell_type": "code",
   "execution_count": 15,
   "metadata": {
    "tags": []
   },
   "outputs": [
    {
     "output_type": "stream",
     "name": "stdout",
     "text": "dict_keys(['data', 'target', 'target_names', 'DESCR', 'feature_names', 'filename'])\n<class 'sklearn.utils.Bunch'>\n(150, 4)\n(150,)\n"
    }
   ],
   "source": [
    "from sklearn.datasets import load_iris\n",
    "\n",
    "ds = load_iris()\n",
    "print(ds.keys())\n",
    "# print(ds.DESCR)\n",
    "print(type(ds))\n",
    "print(ds['data'].shape)\n",
    "print(ds['target'].shape)"
   ]
  }
 ],
 "metadata": {
  "language_info": {
   "codemirror_mode": {
    "name": "ipython",
    "version": 3
   },
   "file_extension": ".py",
   "mimetype": "text/x-python",
   "name": "python",
   "nbconvert_exporter": "python",
   "pygments_lexer": "ipython3",
   "version": "3.7.6-final"
  },
  "orig_nbformat": 2,
  "kernelspec": {
   "name": "python3",
   "display_name": "Python 3"
  }
 },
 "nbformat": 4,
 "nbformat_minor": 2
}