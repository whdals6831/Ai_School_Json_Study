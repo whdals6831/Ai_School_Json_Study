{
 "cells": [
  {
   "cell_type": "code",
   "execution_count": 8,
   "metadata": {
    "tags": []
   },
   "outputs": [
    {
     "output_type": "execute_result",
     "data": {
      "text/plain": "                 Gender  Height  Weight\nLabel                                  \nObesity            Male     174      96\nNormal             Male     189      87\nObesity          Female     185     110\nOverweight       Female     195     104\nOverweight         Male     149      61\n...                 ...     ...     ...\nExtreme Obesity  Female     150     153\nObesity          Female     184     121\nExtreme Obesity  Female     141     136\nExtreme Obesity    Male     150      95\nExtreme Obesity    Male     173     131\n\n[500 rows x 3 columns]",
      "text/html": "<div>\n<style scoped>\n    .dataframe tbody tr th:only-of-type {\n        vertical-align: middle;\n    }\n\n    .dataframe tbody tr th {\n        vertical-align: top;\n    }\n\n    .dataframe thead th {\n        text-align: right;\n    }\n</style>\n<table border=\"1\" class=\"dataframe\">\n  <thead>\n    <tr style=\"text-align: right;\">\n      <th></th>\n      <th>Gender</th>\n      <th>Height</th>\n      <th>Weight</th>\n    </tr>\n    <tr>\n      <th>Label</th>\n      <th></th>\n      <th></th>\n      <th></th>\n    </tr>\n  </thead>\n  <tbody>\n    <tr>\n      <th>Obesity</th>\n      <td>Male</td>\n      <td>174</td>\n      <td>96</td>\n    </tr>\n    <tr>\n      <th>Normal</th>\n      <td>Male</td>\n      <td>189</td>\n      <td>87</td>\n    </tr>\n    <tr>\n      <th>Obesity</th>\n      <td>Female</td>\n      <td>185</td>\n      <td>110</td>\n    </tr>\n    <tr>\n      <th>Overweight</th>\n      <td>Female</td>\n      <td>195</td>\n      <td>104</td>\n    </tr>\n    <tr>\n      <th>Overweight</th>\n      <td>Male</td>\n      <td>149</td>\n      <td>61</td>\n    </tr>\n    <tr>\n      <th>...</th>\n      <td>...</td>\n      <td>...</td>\n      <td>...</td>\n    </tr>\n    <tr>\n      <th>Extreme Obesity</th>\n      <td>Female</td>\n      <td>150</td>\n      <td>153</td>\n    </tr>\n    <tr>\n      <th>Obesity</th>\n      <td>Female</td>\n      <td>184</td>\n      <td>121</td>\n    </tr>\n    <tr>\n      <th>Extreme Obesity</th>\n      <td>Female</td>\n      <td>141</td>\n      <td>136</td>\n    </tr>\n    <tr>\n      <th>Extreme Obesity</th>\n      <td>Male</td>\n      <td>150</td>\n      <td>95</td>\n    </tr>\n    <tr>\n      <th>Extreme Obesity</th>\n      <td>Male</td>\n      <td>173</td>\n      <td>131</td>\n    </tr>\n  </tbody>\n</table>\n<p>500 rows × 3 columns</p>\n</div>"
     },
     "metadata": {},
     "execution_count": 8
    }
   ],
   "source": [
    "import pandas as pd \n",
    "import matplotlib.pyplot as plt\n",
    "from sklearn.neighbors import KNeighborsClassifier\n",
    "from sklearn import metrics\n",
    "\n",
    "path = r'./data/bmi_500.csv'\n",
    "\n",
    "data = pd.read_csv(drive_path, index_col='Label')\n",
    "# data.info()\n",
    "data.describe()\n",
    "data"
   ]
  }
 ],
 "metadata": {
  "language_info": {
   "codemirror_mode": {
    "name": "ipython",
    "version": 3
   },
   "file_extension": ".py",
   "mimetype": "text/x-python",
   "name": "python",
   "nbconvert_exporter": "python",
   "pygments_lexer": "ipython3",
   "version": "3.7.6-final"
  },
  "orig_nbformat": 2,
  "kernelspec": {
   "name": "python3",
   "display_name": "Python 3"
  }
 },
 "nbformat": 4,
 "nbformat_minor": 2
}